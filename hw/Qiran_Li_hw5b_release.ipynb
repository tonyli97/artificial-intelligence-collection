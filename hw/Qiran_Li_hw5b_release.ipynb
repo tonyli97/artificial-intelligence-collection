{
  "nbformat": 4,
  "nbformat_minor": 0,
  "metadata": {
    "colab": {
      "name": "Qiran Li - hw5b_release.ipynb",
      "provenance": [],
      "collapsed_sections": [],
      "toc_visible": true
    },
    "kernelspec": {
      "display_name": "Python 3",
      "name": "python3"
    }
  },
  "cells": [
    {
      "cell_type": "markdown",
      "metadata": {
        "id": "FjXceRyIqAff"
      },
      "source": [
        "In this assignment you will use the [pgmpy](http://pgmpy.org/) library to study Bayesian networks and perform inference on them. The library provides the infrastructure to create or import many well-known networks in the [bnlearn](https://www.bnlearn.com/bnrepository/) repository. Specifically, we will be looking at the birth asphyxia [model](https://www.bnlearn.com/bnrepository/discrete-medium.html#child), which describes the relationships between birth asphyxia, complications, symptoms, and diagnoses. \n",
        "\n",
        "First, run the following cell to locally install pgmpy and import any necessary functionalities."
      ]
    },
    {
      "cell_type": "code",
      "metadata": {
        "id": "GTzjPNiVkt0X",
        "colab": {
          "base_uri": "https://localhost:8080/"
        },
        "outputId": "8d31a07e-6629-4215-dbcd-1063421db54f"
      },
      "source": [
        "!pip install pgmpy\n",
        "from pgmpy.utils import get_example_model\n",
        "child_model = get_example_model('child')\n",
        "NODES = ['BirthAsphyxia', 'Disease', 'Sick', 'DuctFlow', 'CardiacMixing', \n",
        "         'LungParench', 'LungFlow', 'LVH', 'Age', 'Grunting', 'HypDistrib',\n",
        "         'HypoxiaInO2', 'CO2', 'ChestXray', 'LVHreport', 'GruntingReport',\n",
        "         'LowerBodyO2', 'RUQO2', 'CO2Report', 'XrayReport']"
      ],
      "execution_count": null,
      "outputs": [
        {
          "output_type": "stream",
          "text": [
            "Requirement already satisfied: pgmpy in /usr/local/lib/python3.6/dist-packages (0.1.12)\n",
            "Requirement already satisfied: scikit-learn in /usr/local/lib/python3.6/dist-packages (from pgmpy) (0.22.2.post1)\n",
            "Requirement already satisfied: torch in /usr/local/lib/python3.6/dist-packages (from pgmpy) (1.7.0+cu101)\n",
            "Requirement already satisfied: statsmodels in /usr/local/lib/python3.6/dist-packages (from pgmpy) (0.10.2)\n",
            "Requirement already satisfied: networkx in /usr/local/lib/python3.6/dist-packages (from pgmpy) (2.5)\n",
            "Requirement already satisfied: joblib in /usr/local/lib/python3.6/dist-packages (from pgmpy) (0.17.0)\n",
            "Requirement already satisfied: scipy in /usr/local/lib/python3.6/dist-packages (from pgmpy) (1.4.1)\n",
            "Requirement already satisfied: tqdm in /usr/local/lib/python3.6/dist-packages (from pgmpy) (4.41.1)\n",
            "Requirement already satisfied: pyparsing in /usr/local/lib/python3.6/dist-packages (from pgmpy) (2.4.7)\n",
            "Requirement already satisfied: numpy in /usr/local/lib/python3.6/dist-packages (from pgmpy) (1.18.5)\n",
            "Requirement already satisfied: pandas in /usr/local/lib/python3.6/dist-packages (from pgmpy) (1.1.5)\n",
            "Requirement already satisfied: dataclasses in /usr/local/lib/python3.6/dist-packages (from torch->pgmpy) (0.8)\n",
            "Requirement already satisfied: future in /usr/local/lib/python3.6/dist-packages (from torch->pgmpy) (0.16.0)\n",
            "Requirement already satisfied: typing-extensions in /usr/local/lib/python3.6/dist-packages (from torch->pgmpy) (3.7.4.3)\n",
            "Requirement already satisfied: patsy>=0.4.0 in /usr/local/lib/python3.6/dist-packages (from statsmodels->pgmpy) (0.5.1)\n",
            "Requirement already satisfied: decorator>=4.3.0 in /usr/local/lib/python3.6/dist-packages (from networkx->pgmpy) (4.4.2)\n",
            "Requirement already satisfied: pytz>=2017.2 in /usr/local/lib/python3.6/dist-packages (from pandas->pgmpy) (2018.9)\n",
            "Requirement already satisfied: python-dateutil>=2.7.3 in /usr/local/lib/python3.6/dist-packages (from pandas->pgmpy) (2.8.1)\n",
            "Requirement already satisfied: six in /usr/local/lib/python3.6/dist-packages (from patsy>=0.4.0->statsmodels->pgmpy) (1.15.0)\n"
          ],
          "name": "stdout"
        }
      ]
    },
    {
      "cell_type": "markdown",
      "metadata": {
        "id": "J3ZeHCT6Hpgz"
      },
      "source": [
        "![child.png](data:image/png;base64,iVBORw0KGgoAAAANSUhEUgAAAeAAAAHgCAMAAABKCk6nAAAABlBMVEUAAAD///+l2Z/dAAAflUlEQVR4nO1dh5bkKAzE///T+3bagSBAoWQDtu52ptugUiiyPd1h+2RpCU878ImvfAQvLh/Bi8tH8OLyEby4fAQvLksQHHZ52o8RZeqk5MR+RJcyazJaTH4sRzJnHhj8fRT/ZLosCLrn15G36QgWM/Z6iqcKX8XWyymeKXgtU69meKLYDa5OFCVa5gnd5Ol7O/EsgVsZei3Dk8QN4OelFM8RNcTLdzI8RdAgJ1/J8Awxw3ycIVi0TBAz0MUJokXL+CEjB9YXDtLjRwz1cPxw0TJ8xGAHh48XLcMHjCZ4+IDBMny86fM4x/twFeQRdN4PHzBYRo83pK8iVsPxSsbg6AGjZfR4C4L//vvfl/f7vD+Cf537+LlF17aQ3hF+2xg9ergUweHowWG/crwI19uD253RQCG+QgYPN+pv5xy8E3byeo7SMd/7/+FsGBfOje4PIIOHmxMTcoJDPi5H3ffq2eEjeFDpE3xWCiXBO/cEzntk8HB5BIeL2mtKvlgmcN4jg4ebLH/jOTikk2+8ir7m5msVHc/l90bwtIwersS/UH2jRVxARg8XTvC3Dx5LtAR/HXiX0eOFd7jRA0bL8PF+BNtk+HjBDg4fL1qGDxg7Rr9tiTUBwVgPxw8XLRNEDHRxgmjRMkHIuGH1fQP0FATjeJkhWLRMETOG4Tf230kIhrj5Tn5nIdju50v5nYZgq6Nv5Xcegk0UvfiTdiYKXM3Si+mdimAlU6+mdzKCFWy9nN7pCBYy9np6JyR449P20bvNSfCWPSepqfAamTgLFRI/bhOZPRWhkKc9GkyWyccygYBlmbwsEwhYlsnLMoGAZZm8LBMIWJbJyzKBgGWZvCwTCFiWycsygYBlmbwsEwhYlsnLMoGAZZm8LBMIWJbJyzKBgGWZvCwTCFiWycsygYBlmbwsEwhYlsnLMoGAZZm8LBMIWJbJyzKBgGWZvCwTCFiWycsygYBlmbwsEwhYlsnLMoGAZZm8LBMIWJbJyzKBgGWZvCwTCFiWycsygYBlmbwsEwhYlsnLMoGAZZm8LBMIWJbJyzKBgGWZvCwTCFiWycsygYBlmbwsEwhYlsnLMoGAZZm8LBMIWBbJy/Gdhp/kskpWvg/nqMgqafkIrsgyaVkmELB8eVlcPoIXl4/gxeUjeHH5CF5cPoIXl4/gxeUjeHH5CF5cPoIXl4/gxeUjeHH5CF5c5if4+8aGpkyekYLSj+NMpk4HTeZHcSwzJ6PG5MdwJNPmojkWfwP1KbMmosvgrIGhZdI89Hvo14d/MmkaGG5PGhla5kwDy+s5Q0PLlFlgOj1lbGiZMQlsn2cMDi0T5oC/fPoWWnMS7FJ1VZkvBSKP5wsPLfNlQObxfPGBZboECOfV6eJDy3QJEDo8XXxomS0BYn9nCxAts8X/ESyU2eL/CBbKbPHLCZ4tQrDMFv7u7/GA3XdXqSeThR+i398tB45MFn5M8P8fYX86Z/8R/8xVXiqThV8Q/OvKYf8R/wyZyktlsvBJgqMBO2zZhekiRMtk4dND9P5HDb+FV3QhUXmpTBZ+SfB2zrdRPw6EyktlsvDzVfQ3B/dksvBP1sIx+x7Dcjg2x9GFROWlMlv4cn9nixAsU4Wv+fvQt/8VyzTR7+tizc2GV//d8BSRWzY90eE10qVpZPyoU2qkNKW6LyR57IgJSoyP7LyO5IGjrVBhf+juVSQPGmmDA5HHdZS3kDxglM3cC3lp1n4Fx4OF2PsoJOFOKfRIXJ/jgeLrf85ViO8tsBC3PoeLD9aDxMb5EDP56fK1B+5b52LOJiMExstvVIfpdKTQ11iV4+ej4iU2rcVTkVpZkuOHQ2LmVHPcUR5x4PyZSB6Nh5tNop7mc7J41hbj+Llg2InUfCJlIL9tlm9xHY6fioSdwkrF9n7491CHzewiHD8ShiB7NX5Dvex8CE/R89OaK3B8fwySvHUpLCt0n8aS2Z+e47sDQNCb7nAbd3yrzUNy2jk5x7d6L8xsvShHrX2if+NeEt+RuTm+z3VcUgW3ietjgPSu1Kwc3+U38Daf6DkA2I3HWTm+xWl5LuWFiucDxIzNyPENHkPplXdVRWNpakzGsbu7lscgyXLh9U6ICr7motjZWcUo2CkXF/RiVFE8D8eunsLp1fXT/v3+jlWQziPi6KdmgtNXaE61Vru00hQcezmp+jOxfhVVESNKHVkzUOzkos/aRd9LGdhKikfn2MU/p6WppZNy4HW5GJxiB++81iy2PurH8NjdGO+ail87LmQhpWZqXIrRjrltOdQbZHYFvi+04pgcg73yOxiyD8FM1/QZGZJiqE9eozOnmnkSv6pZKB6OY6RDjue6mP7J9c9C02gU49zxPLZHdU+2izaKR+IY5ovf6IzYRAmApDXx2lABeeJ71w03/ArctFI8CMcYN57n12ONvATFECd8b7dh+6bIV1t2hqAY4ILj5khQlT+78k2bJ9MBKLY74P3QC3zslfk7O8Vm877Ds8fQi35KrKv+KMVG4+5Pu3iMvFKfrQw9SrG1dXpbdJlaxV5PTLFtJ6BQceLXe3U8LcUWsyPx6zUwmFRS/Wcotpy5yjWkyxunuvLqfypTUmy4NSbX8Fy+ildOwvp/OhNSrDaIf6i91HCrrFL4U5qOYq250fjVDChijQ1xn+hmipXG5PzKTXgbUMY+GcU3BenNb9jID8aC2rjUZqJYSbCwun/3UqVM/wilUi82fRPFuolIWP2G4VOXsPuWmBTELRTfkJY7+L1pKIo1J6H4jsFTbsLnT6bAhuag2H91OzS/TzPs/3ie//JWITNsFH+641M83PGDVkkvthtqo1M82PmhWskixnviCA/8YnY9sZiDXzPDQ3dixyWT8kMRNEpWsd7NR7jgFLjfie9E/G6qg85YfVyK3dZMyu3RUwSbH8nBeIFAyTCdams/tEajZRfOF691ISB+AEAySJ/K6ptUD1GM+HK7MTuxD8Hq+3APPl6KOHgE+IGmWILGqxv0bfnpP/MwC8Z/aBZMBJNflNBZKIVEBNY5cMghQAPcqiNAqxfKY5Ssiwtj+YvDhzpEKOrqGakoQxZMFAYHOFTGr0K1jVUpqmS87RG7Zl41NpK+ps3X8qPho98H1Cx3NHvAxDpRmpAdpn3NYTlUjMSVtxWne2kRCJc7OcfMgbgTS95Xm5WrJZ0L3NC0BPfs56UdO3wuRKwJpyuME6E2tlVq1wrSnAoTLq3W5be3wOjjszwRd0qnllOvnQy8HMwGw3FDoco5oiOYnlOqqihXVPMqU8ljOGdPJZXrV0pkCRdXyitWZtmaJr8PdYqVi2McFTJcfm5ri882wSwDqrm62uIsFjboQizX7a25tbi6srKyqtiLYP7KT2CgB23e2urK1LhC0HbbFheIquT26yrqlUC3PuLMS1zAgzWPW02cDhhj3cI0zzOnXcu3IOpXpdCiy3xYegLF4PTAbia4PM3kofdUQAfM+qWoGFa1ZhMX4Ahm8lsUYuKE3UAATCE8WB1qfUMs1xG6oiRYufnoXVALdQPBA1Z9DC65vBd2QXmmuRqh8Y4rgHGeC+10A1eLqlivPUowJk4gv5ApxBFWsyDv2WL5kvDbOTLg1mSaAz/lkd+OHgtWsyDHE8yuqs4eZBi4FxsEq1iQz0iwxN4o2JC4Nev85wg2jH/UOE+dFwdqOI+emul0iB2xujvpPhVCs9owHsGy59sbCCbHn8TNQNSNK5aLEG6YIfrdXQOfBDdEwESrsILFhRUT/HNmdyn2zIvgNJVNgksr7T5GoZxR/hrL36cm7S1kv/L35uzBe9FV2PDwwt6S+kc2T4vbZemwp4XdjgB+qEQiM7jr5+VZM4UNxGadELt/prDVlw9vrlDDFRIdZhRwKMHOyhen28H1wcT1K6KmiX15eEKfla4LZ5ULXQUbt5DBCE7DiLpKXpckOE8MHWYZcOZCyGM94j+ZTcmm/MqwUyb2thgCaTEkOjrYa7h9nOBAvondjMaqcthOCT4uNcNsEBziEWNvM4EkeDMTnFsM52hjIjhO1B43l+Cji8TrGi+CL3NbTHAl0FrLp8OsgcRJOvvDdiUvIjgAevBZGhKXY3sPEByltKZSqvOrZLRdS56icpXg0A2zkra43/5pJASHY6YIp0cn2UKCY0JLw7E9EcFpOznmpeRJ+ScITmucc+2e2DxSmuAzPUV1MswoW9GrsP86OvK1ig7JWi8csGdTolfRVyg7QKyeuJhZjCxQBDNhD6/o1pfn4symN8GRpWiX0iQ4oiZi9KhEhdmOWCUUYgtbbBcDWyf4ytNNBHdrG6ghqbbBlT2tjh0aZS0bANgqwRINUXlRgU+wnps4WxCG6Vmuiq14jJbTJhmwMxFs6Hyh8hohTtigQecdBIfqG7s4YYNgKc3bCW5qJEthbaBptqAMBx9sECyp2EGDE9zWgLTk0HhnFNmK8W5YWm9cgpWBCicFCzQIG+WxgmDNsi0tNxGsibRQwg3SRDCYRToGtaLWRLMTLNMAjFWERaeRtHIJAIsZujhoDgS3VABjlWKdYYEGMKxY+rJxemB9O1CCheM5D6J+VQotusyHBTXJukoD7G6CNR6w6gMY1nQQDqxm6cvH6YC5ECxLlSxSTSvmAbfyZ8BuHHdicP4KxQX8KpJ5y9yW21GaaGgvDbXYsGbTqWuYXYAEm9ty78xGT0MvfzronhYbU3UTgmkA2HSswytjPtHw0Ff63WgVrxYYtDADV86kLHQdwdLlFCcEnrtSHpj0iqF5tTm1mIGzLvEUWcXCDRFjkGxXUNTkVY5vFTs4wW5fXaDuBaYeszj3yzZcyfolN73yQRTXL6smBIVZ1eZbrhq7OHtIjrNeryxlNCucGha/wlFNqskEzlUQUEll/gJOV5osS/hu5iEp0tVVZmPWqwUS47yoW+kVY4UcRpFxC8FHIqQ7+lhEqpQToRC2Hy1YCpmh2jYIiFyurCM4cCrZzct1uSuPRpLKm3/9KnyxNWkFxrwE0xM6T7O57mFgrk5wPp9IDDaRRKpKvO55GceQfuGgVdRitNeivOuPdOFa2+updSvwILV+T0GweA+std/SUxGsOvTVDhVcfF8MFcEWgyBd5uCSlunGb1pL+9yVSsuA8TjByjzVt7AmS4L5dgGCuZGZnEbnqdbfeOtriS3dblijZMF4BcHsw2uZLY3rH8FWJcuxhJRghe8TEMzcR7AdAPcD1f2hJmpjtJD7/j6CVUf33ELhbUixtY9gowcalbNQfBtEYU3s/PgECzYSdg80Gnup/BkrlTmYFS8Q/mzWULh3EmYcJqtutooLGM7IwDxApBOMaKdodkFVX3ezVbqzvqyBzDiBzEdwp0Np76Wr18ofwQYXZNWPJ2rQBxAdPNiaxwVESLDwKIDnAmQvE/Vcz42Xplxb19vgXQSbu0A+LqPPH/qTPsiQB4iM4Gr3EVgU+dCtSz//iPWgCwd7yNEBBELwjZNw2lNrTxxjPejDrUKwbqvY90ExxDWXy+DNKQONbfCVBEs7QH8vhN26cNC4FgciWDK13Ugwa6P7EcyoK+jAdxHMPsXAbk1ZaEyTIxMsPRMROMGZ5f6Ty28JEuvmCvBaQJAhCO6ucsR/9QXdmb6E4BaqcSPcbDvRuOxBMG6JjBzJOyCQ9ish2GkSzpbLLgdGwD0QcjEGQ2ETjNyXlOrUoUqxopKE9QQprKUEEwuGMgbBxIQvWcRzAA31+KcY6A0cAGVIgit/ua8HtFVDjvfDEtxb5/It9vRre13s4QW+Fq/qKASn3zTXgyxqi6X/6RPiT4pg1WLVkQTXG+isiRKj8Nav/Y0qZB3dOqiS4sMmV9lTQJAP/0F6VO8w/A5MrXilErq5EQPCTjBwH4ulfCDQgoIh2HzS0W0iYnwGwdyFGHB5Nw7BghmYWaOpDb4BuAVGEqB7ZW71URZZekC5BMaj6vIOrPq0Boy4Zksq4I2gwoHAsaHwwH1WUVu+VZ4lmDeZILYWFKqbjMQw6/jUy2H27Xu4C34x7fDDCIfg4OOx4GMl4cPpR3BcBZ/fTTQFOti3n8x08D3BRcIjGG9WdHYAN+8SU2pgFI5ZczDe6tPRu9t3b0FcecKNUWJ3FMyhM0Lu92KQwJ3ltQQPEvYNMkikN3sxSNQvEirhim8VYH4dAeOuo/lrDapw6k8AhriD8YVA6tUm9PMXDIOFA5ShJmCpZckDHbsGMfrgADUphF1lbPIs5WXSP5WvwBN+tB7/qjqpo6SlI0PMm67QlcMgwJMeUlWp/b4/pjbKmDV7YYqzAKq0EeGjb1sKKFYCdQg1pT4qZjcEbZWzJn9eYVRiXbJZYXrMmGwrvbvxjr7SQyRrVIcjVHiSalzL5NzDN8APDoRET5bVN41rRptxMf+OEqOKcABVPSWknb8tNS3DUqi87l3lP7GmLRRW1qxKZevP9mUCXOIICInYOVRe667KaiI7nHIPI1h+9gtSYKkj9SIZUP19DYhaaoi6XuWyosdVC9Rb1Kpqa/GhR1X4Id4l1t4KmpDQqGF1xUEy8VsFNRGs8geVptq6mU8wYvjRcWJZictAmweuyh2LQsveDVQEmywqMepq5kNrMrNSLyTlfDXlyoJ6zV9PKow213Y2JMQNqvbak+OEpFigqEWiVla+BOczvz4H1vmCiSqrLiiVaBrutVwvixdU/cY7psXmWwMS6Ia2ENU0gPNVDXuD8hWbYPu0YCPF3trsqPze4OoGB+d4xT5F0J4oVN+IkXBQalTbvZMWMAgqFB2XvapArBCN2xoclBqVv+Xw9IIDdBfBCAhCHcbvIATj0pQT256LoyH9qlh5lqMLkdrMZp0dNSQ106dBqNvMBBRhO1b8mYnDoZ1tI5YF15xH+7Tnh3FCGufgAGvHGRfWf1dYy1/VvKxZZxJM16z1r7ScT8t/x/eHiEgTR273AInm0DMRtiKYsyDUOsFGBR9iPBTBZ0SF2fRK+CmE3e/9x/H5CWkfL5MTtcrjg77DhRrCAXaWVr0hoX4I2xY5dDj504nHilpqjzRkzaFH8JWecPXAI6TL0csdwo0WweFoKHGwSZ6aBF+t7GzKuf20M+T/Jy4UGsmLU+UM/PL9ciRp9I0efFU+WbnQYvdipRw1yulVO20OPIJLq2f/2eI2QwaXMpUTfOHGwYbSQ+J34kphNvodNz+aYKJbJCGc3Ta2GbWME7/dyCmoLBU1ggmslOCUMx3BUWwRTIhq1Jp/XO3oqVHfO37teBRjh/r5O5wN6wBrmDUSHGcgI3hL4+gSXEBFpG7RBJARTPnXIJhwIROa4D2toYjnHFrraboITuI8QaNgE4JDph5HEbe4pllHgrfiuorgY/RK3Qt7CsgQ6wQThnOJ85kMKcf1JJ7zl4bgq5gimGL2rJ7Mq7TZE7hBcKWHFKycmYhb9nbiHC84BF9QrTk4XjaVWAnBgW4OPYKvQJKkxCFFr5o3B87fGcFxNI1lYPr7+BkvzU7wLLJ9fCiaRLKsZhJ8YZzbx9Rp5iq6gIpW0ae7aRUisqS1b2Rz6BIc7YMjCqKQru1KrR+cuQ8Jt0QMEQP50Fx2UTIEKrksaRKcFAmAW94IoUjUqNOE43fWHPoEW21zoWq1mgQXWVIRnKKQMdTs9YFr3kAI7iO4EdxKk8hguwcnY2vqgIQIcoQufQrUxRZs3RshFI1qIlhjnJcmmSfdIZrhgUgAEIS6EaqGpCcYGJwN6W6Ck86McR0AVUF9jmBYmorVgjvB1TdPQqlR3QhGQZVL2hYawCyOldrqwCYyVHayfN3g4CgIVi0j7BC0LmiMFqI2kwUMTg9UvuI3SuM6UQtRUQURLENtFuOCm4fgQkXteqkI6MMlBHtJoigWKEK3LPx1g9gsoYBYqx3XrAxTAKY+igvOvuBRESw0SyZQ5TqtZd12SVtN1x4uOOu5iY5gqVkcKxUdG8O0cotgJaRGSRFadUKtQVkbFo6VqoaB4ZqqiWCFQ1U/pEiNhZqkKfPNCkaGDpDD5iQ/dI+LxAUpsNSRepEMqPFeRCXXLH913gPqrGzt2/O8UHRZXa9f2TRcJgRLVhvMhJr2GzJ7wCG/UcpvSJLgUEjELrIHZJv3YOtNTkXxsKgpxtEmqMhE6u/3yvurzd1Cd9RkrDdhlfZ67FwwhgTrxpRnhNd2GXszegRuv+818tbagN85kbMrN188sO4FoyV2g+yloQrUJpjTuVT+5HVb7US8HgUMLGfd5lumPxBPekjVkkZV/rjYv8QAIRYIcqC/gOp6YkTEHXjapia2apYaOhUYkfmQC1uziWI77CLgVIjGqKrO3IRk8RoPYwcTbQRMqM9D3WnvI/gBqBvt4Z59+0MDq34ED4JiRzOfTYhwn4a60d5H8BNQN9obhGDmXh8G/DDUjfbAXqu3EFg4JIIH1I32xiC4eqimdgSH4AF1o70hCOaf1uGgH4W6zx52l6R0SvFsBh/bjHBB3cwwhmAEiBEP9syLD4IP1l3mhiAYC4dG8MG6y9wABLdUPoKtGM8T3NT4CB4AwwbYedpB7wkMwQfrJnOPE+x+S/QjGCtigrFwHgg+WPeYw+/shIDu/L6dYDuECbFXe7AQP4KFiP0Hhg2e4CBcsO4x9yzBHn/S4gHhgnWLOYfDVRHBUDQ/CBesW8w5OCyAZFT9CH4awQDJqfkR/DSCAfIj2N2cx/1NNiSr4kfwswAGTF69j+BnAQyYH8E3mHuQYGw1ZwgXrBvMuTxihO2ZH8FP6utB+Z8gYPAEB+GCdYO5xwh2+bQbRwgXrBvMPUcwFM0fwgXL35zPU77Y88eP4OfUK5j0t1Tr7HLQ/CFcsJgGTcouBDM+wUJAsPHTNTAQLlg8gzZlF4qR/HLQ7oBwwWLZMyn7ePsRDBSbNSdnkfx+i6zntOeyOqlMmKy7/wBzbpkvWR+/IpkvW/N5/KhMl67pHH5Y5srXzadAK8hcCbt7E7mATJWw28/5FpCp8vXxK5epEvbRK5cvZYvLR/DiIiIY8yUIMgMoPIxHJm+K8GxoTJvMajWHYJ5WcAz4qZ4chbBsCBaLJrDbr8F5wMLkaldbwTJVX4JRN6iItaHiTnIHXJgTlQfcbyETfdWW8LrQlsyXXmVXins9R4jmqsCubPzCPY4dgS8gi0pppUJj1IcxmUazDme6YbrCqoRsBxqpjmWWdSe4olDLVi6ak+w1dHUFQqPa2pPzqGT+4MJGDdi3RcrBnCiubH2sqIyB0ATfKOPoa4DlnohDvOnTEkDbWqlZDDpz/rQoQz1BKAkRUTaaKx0vdNMCSbkmqFxXYOnVBIA4C57fklFdPBi0tQdmJkdwijw86CxQAQPZIA82+dosPCWUiSYwwyncHd+PA/w7Lo65qrZBt6tqChHLQYKG//IFYEdhoIsIxjXt0g8bwVAWQvUNHh5uw9QLQ+PdnX704WBgd+yzHccf09+k2fxCYiEAaCynPwVtvYWii28o6nWbWACCgVkK5EuggBt3A118CmXQbWH57fJtUD78ek8ChgaKbNvgID0IDtEr+uGcck/VOnImgK+LnXPMDDj3LC6FEnwAJ3ZYYcYehauE2MmxkobcapAvWIcIgbxaVpcTXNMKf/9C7m3y8sjgCXJktGgdpep2RX/Z4YVZhhuKHkHFRqMhzxMLv46f+yeshD0n4S/kq1EnKbyu7SVxOy0bd8TFFiXzl9FwAEeIUaOL6Esgz/LT/f13+i9SzlUP/cwOL0yiPR/G9qyFC7yfNHeCt7MFpv+fP+IURoncsxjIiDNjiUYC8yuNio+SS7caQEZwuMDO32WoVAaKltIMk3Jo5zAaCgITzZvgqMVVCN47dlrv7AlxFikbEUm/Br6FFObotUevzglugOcE71ep1tEn+PKmF2a1PV9ov9zxkuZM8GW8SfDu2MWHjuCws3zBbBfWaeviKg2/IDidgwmCK+4QBKduNsMkZqSrwjkGs5M2FMGXnongCGa7sGKCjytJ9OIeTPS1iOBQ2GGG2SA4ikGMZhbawc4QfV7IiqMZlUNwOPIZEltH6YEYwlW54LdL8AFGtA5KNbJVAjbCLJtNGROxcKklzZPg7Vjbbqf13ZOzDaar6GQpeM0wFzJB8M5cvFKNVQvEk/RwFlcCuLwi/8WZK/yK1mKXHV6YFYJDEtDGRfMlWKbX1yfIkEtVtUZw1GvzZBZZFPhVq8oJsizpR2UWbZA6gvV+VxNLDBRcSI3qKwjeApERVlxqvzmZEBOsUTUQTBTcSTAQs2bBw8bdBPexEEEC8wQZP5sGQu0NGt1CsNUvcJAuBDt14dB4h0U3EGz2K1Tf2OFwUB4M55hYG5bWg2x54FaMTJLrAEpAQm1kYDJsICkmP7pwRrDqGzw83IZpeEASbPGjDwcE85wi8TYEe/G+MvQQBtpcbBKab63gJBzKBpFXwX4WN3dQhwKW5uJKMHYErYBhbNhGByAp4GEKPIqWwxysg9WREDtFGoILTJKi86riiDJE/EkBYQJho41iX2f2jwyb+hblzBNpgQ5OLcCmLIJAbkvEwPWh5W5P7Co6SOjBjrpKVdU4ODSqCL1qG5M3F6mCHtPUiXnK+kVNW5FBsEmb74m4uciq20D1MzFbU2eir2Urt2y1LGBuN3saBn3ybzLB0rAN4VynWNWcWzsHuGNV1KBF1aU6AvTGIpvXQHrVZL50R3J53vjCWZJAm6pSV4pPVgcNv5pmDEQT2ubUaTcxTc+VQOjgCyUpCl1fGWtFzbXv7ib4NUNGQ3HB6koGaMa/tC20JBi2Q+YIAJy7hlW5BppYXwMAJGi83tkr7N1l6JNn5CN4cfkIXlw+gheXj+DF5SN4cfkIXlz+AXR5YU6kIkXCAAAAAElFTkSuQmCC)"
      ]
    },
    {
      "cell_type": "markdown",
      "metadata": {
        "id": "fgG6RtLX4W-K"
      },
      "source": [
        "# Problem 1: Independence (20 points)\n",
        "\n",
        "pgmpy contains several functions for testing independences, which are demonstrated in \"Step 4\" of this [notebook](https://github.com/pgmpy/pgmpy/blob/dev/examples/Creating%20a%20Discrete%20Bayesian%20Network.ipynb).\n",
        "Answer the following questions about the independence properties of the birth asphyxia network. You are encouraged, but not required, to use the independence-checking functions of pgmpy to verify your answers. If you choose to do so, please leave all commands and outputs that you use in the code cell below your responses.\n",
        "\n",
        "1. Name all pairs of independent variables given no observed evidence in the Bayes net. If no variables are independent, briefly explain why that is the case.\n",
        "2. List all variable pairs (X, Y) for which \"X is conditionally independent of all other 18 variables in the Bayes net, given Y\". For example, ('BirthAsphyxia', 'Disease') is such a pair.\n",
        "3.  Suppose 'Disease' is observed. List all variables that are *not* guaranteed to be independent of 'Age'. Briefly explain how you know that the remaining variables are guaranteed independent. \n",
        "4.  Suppose 'Disease' is observed. Name a second variable that, if observed, would cause 'Age' to lose at least one guarantee of independence. Briefly explain why they change the independence properties.\n"
      ]
    },
    {
      "cell_type": "markdown",
      "metadata": {
        "id": "6utq7i8c5Dz9"
      },
      "source": [
        "ENTER YOUR RESPONSES HERE\n",
        "\n",
        "1.  No variables are independent. This is because given no observed evidence, the only collider occurs at common effect. However, for every common effect, they share a common cause to reduce the collider. So there are no independent variables. \n",
        "2.  (BirthAsphyxia, Disease), (LVHreport, LVH), (GruntingReport, Grunting), (RUQO2, HypoxiaInO2), (CO2Report, CO2), (XrayReport, ChestXray)\n",
        "3.  \n",
        "Not guaranteed independent: (Sick,Grunting,GruntingReport)\n",
        "\n",
        "Guaranteed independent: (BirthAsphyxia, DuctFlow,CardiacMixing, LungParench, LungFlow, LVH, HypDistrib, HypoxiaInO2, CO2, ChestXray, LVHreport, LowerBodyO2, RUQO2, CO2Report, XrayReport)\n",
        "\n",
        "Reason for Guaranteed independence: Because they share a common cause to form a collider. \n",
        "4.  Given another variable \"Grunting\", if observed, would cause 'Age' to lose guarantee of independence of 'LungParench'. This is because given \"Grunting\" would remove the collider between 'sick' and 'LungParench' (common effect). This connects 'LungParench' and 'Age'. "
      ]
    },
    {
      "cell_type": "code",
      "metadata": {
        "id": "eEWz2UdAJmEu"
      },
      "source": [
        "# ENTER ANY CODE YOU USE TO HELP ANSWER THE ABOVE QUESTIONS HERE\n",
        "#1\n",
        "for x in NODES:\n",
        "  for y in NODES:\n",
        "    if not child_model.is_active_trail(x,y):\n",
        "      print (x,y)"
      ],
      "execution_count": null,
      "outputs": []
    },
    {
      "cell_type": "code",
      "metadata": {
        "colab": {
          "base_uri": "https://localhost:8080/"
        },
        "id": "HU2q9KoEZ8AE",
        "outputId": "0a30d231-b252-4410-955a-d9d3ff2562a0"
      },
      "source": [
        "#2\n",
        "for x in NODES:\n",
        "  for y in NODES:\n",
        "    if x == y:\n",
        "      continue\n",
        "    t = NODES.copy()\n",
        "    t.remove(x)\n",
        "    tmp = [not child_model.is_active_trail(x,z,observed=[y]) for z in t]\n",
        "    if (False not in tmp):\n",
        "      print (x,y)"
      ],
      "execution_count": null,
      "outputs": [
        {
          "output_type": "stream",
          "text": [
            "BirthAsphyxia Disease\n",
            "LVHreport LVH\n",
            "GruntingReport Grunting\n",
            "RUQO2 HypoxiaInO2\n",
            "CO2Report CO2\n",
            "XrayReport ChestXray\n"
          ],
          "name": "stdout"
        }
      ]
    },
    {
      "cell_type": "code",
      "metadata": {
        "colab": {
          "base_uri": "https://localhost:8080/"
        },
        "id": "GpZMFtJQlo7w",
        "outputId": "5d618335-720c-45e7-d8f5-da78264ef616"
      },
      "source": [
        "#3 \n",
        "print (child_model.local_independencies('Age'))\n",
        "tmp = []\n",
        "for z in NODES:\n",
        "  if z == 'Age' or z == \"Disease\":\n",
        "    continue\n",
        "  if (not child_model.is_active_trail('Age',z,observed=['Disease'])):\n",
        "    print (z)\n",
        "    tmp.append(z)"
      ],
      "execution_count": null,
      "outputs": [
        {
          "output_type": "stream",
          "text": [
            "(Age _|_ BirthAsphyxia, LVHreport, HypDistrib, CO2Report, GruntingReport, HypoxiaInO2, Grunting, LVH, CardiacMixing, ChestXray, LungFlow, LungParench, LowerBodyO2, CO2, DuctFlow, XrayReport, RUQO2 | Disease, Sick)\n",
            "BirthAsphyxia\n",
            "DuctFlow\n",
            "CardiacMixing\n",
            "LungParench\n",
            "LungFlow\n",
            "LVH\n",
            "HypDistrib\n",
            "HypoxiaInO2\n",
            "CO2\n",
            "ChestXray\n",
            "LVHreport\n",
            "LowerBodyO2\n",
            "RUQO2\n",
            "CO2Report\n",
            "XrayReport\n"
          ],
          "name": "stdout"
        }
      ]
    },
    {
      "cell_type": "code",
      "metadata": {
        "colab": {
          "base_uri": "https://localhost:8080/"
        },
        "id": "GirnTmMDot3z",
        "outputId": "609da355-dd77-4fc6-9827-8409e808ce37"
      },
      "source": [
        "t = NODES.copy()\n",
        "t.remove('Age')\n",
        "t. remove(\"Disease\")\n",
        "for z in t:\n",
        "  if z not in tmp:\n",
        "    print (z)"
      ],
      "execution_count": null,
      "outputs": [
        {
          "output_type": "stream",
          "text": [
            "Sick\n",
            "Grunting\n",
            "GruntingReport\n"
          ],
          "name": "stdout"
        }
      ]
    },
    {
      "cell_type": "code",
      "metadata": {
        "colab": {
          "base_uri": "https://localhost:8080/"
        },
        "id": "BQozp239r8xq",
        "outputId": "2a4949ca-d913-4411-c022-84dacc772897"
      },
      "source": [
        "len(tmp)"
      ],
      "execution_count": null,
      "outputs": [
        {
          "output_type": "execute_result",
          "data": {
            "text/plain": [
              "15"
            ]
          },
          "metadata": {
            "tags": []
          },
          "execution_count": 80
        }
      ]
    },
    {
      "cell_type": "code",
      "metadata": {
        "colab": {
          "base_uri": "https://localhost:8080/"
        },
        "id": "3flTVX6TqBKI",
        "outputId": "dcf42c2d-53cd-492f-a3c5-be22b928c211"
      },
      "source": [
        "#4\n",
        "for x in NODES:\n",
        "  temp = []\n",
        "  for z in NODES:\n",
        "    if z == 'Age' or z == \"Disease\" or z == x:\n",
        "      continue\n",
        "    if (not child_model.is_active_trail('Age',z,observed=['Disease',x])):\n",
        "      temp.append(z)\n",
        "  if len(temp) < len(tmp) - 1:\n",
        "    print (x)\n",
        "    print (temp)\n",
        "    print (tmp)\n",
        "    print (Diff(temp,tmp))"
      ],
      "execution_count": null,
      "outputs": [
        {
          "output_type": "stream",
          "text": [
            "Grunting\n",
            "['BirthAsphyxia', 'DuctFlow', 'CardiacMixing', 'LungFlow', 'LVH', 'HypDistrib', 'LVHreport', 'GruntingReport']\n",
            "['BirthAsphyxia', 'DuctFlow', 'CardiacMixing', 'LungParench', 'LungFlow', 'LVH', 'HypDistrib', 'HypoxiaInO2', 'CO2', 'ChestXray', 'LVHreport', 'LowerBodyO2', 'RUQO2', 'CO2Report', 'XrayReport']\n",
            "['GruntingReport', 'LungParench', 'CO2Report', 'LowerBodyO2', 'CO2', 'HypoxiaInO2', 'XrayReport', 'ChestXray', 'RUQO2']\n",
            "GruntingReport\n",
            "['BirthAsphyxia', 'DuctFlow', 'CardiacMixing', 'LungFlow', 'LVH', 'HypDistrib', 'LVHreport']\n",
            "['BirthAsphyxia', 'DuctFlow', 'CardiacMixing', 'LungParench', 'LungFlow', 'LVH', 'HypDistrib', 'HypoxiaInO2', 'CO2', 'ChestXray', 'LVHreport', 'LowerBodyO2', 'RUQO2', 'CO2Report', 'XrayReport']\n",
            "['LungParench', 'CO2Report', 'LowerBodyO2', 'CO2', 'HypoxiaInO2', 'XrayReport', 'ChestXray', 'RUQO2']\n"
          ],
          "name": "stdout"
        }
      ]
    },
    {
      "cell_type": "code",
      "metadata": {
        "id": "7uYAKe6KtV4y"
      },
      "source": [
        "#https://www.geeksforgeeks.org/python-difference-two-lists/\n",
        "def Diff(li1, li2):\n",
        "    return (list(list(set(li1)-set(li2)) + list(set(li2)-set(li1))))"
      ],
      "execution_count": null,
      "outputs": []
    },
    {
      "cell_type": "code",
      "metadata": {
        "colab": {
          "base_uri": "https://localhost:8080/"
        },
        "id": "RuYoD6LOuSmT",
        "outputId": "8ef954f8-c09e-4d70-9d9b-b5572cb5365b"
      },
      "source": [
        "#check\n",
        "child_model.is_active_trail('Age','LungParench',observed=['Disease','Grunting'])"
      ],
      "execution_count": null,
      "outputs": [
        {
          "output_type": "execute_result",
          "data": {
            "text/plain": [
              "True"
            ]
          },
          "metadata": {
            "tags": []
          },
          "execution_count": 92
        }
      ]
    },
    {
      "cell_type": "markdown",
      "metadata": {
        "id": "Sx_Kq1nYaRqz"
      },
      "source": [
        "In addition to its structure, the Bayes net model also specifies the parameters (probabilities). These conditional probability distributions, or CPDs, are stored as tables. Each column corresponds to the CPD of the variable of interest given a combination of its parents' values. \n",
        "\n",
        "For example, take the second table in the output below, the CPD for 'Disease'. The first column is the distribution $\\Pr(Disease \\mid BirthAsphyxia=yes)$ (which sums to 1). The first row is the \"distribution\" $\\Pr(Disease=PFC \\mid BirthAsphyxia)$ (which does not sum to 1).\n",
        "\n",
        "The tables can be accessed as follows (you will be using all these tables in the following problem):"
      ]
    },
    {
      "cell_type": "code",
      "metadata": {
        "id": "bQ302lI3bB7X",
        "colab": {
          "base_uri": "https://localhost:8080/"
        },
        "outputId": "47e4fd4b-b096-489e-fc7e-9ee8e0a60db9"
      },
      "source": [
        "print(child_model.get_cpds('BirthAsphyxia'))\n",
        "print(\"\")\n",
        "print(child_model.get_cpds('Disease'))\n",
        "print(\"\")\n",
        "print(child_model.get_cpds('Sick'))\n",
        "print(\"\")\n",
        "print(child_model.get_cpds('LungParench'))\n",
        "print(\"\")\n",
        "print(child_model.get_cpds('Grunting'))\n",
        "print(\"\")\n",
        "print(child_model.get_cpds('GruntingReport'))"
      ],
      "execution_count": null,
      "outputs": [
        {
          "output_type": "stream",
          "text": [
            "+--------------------+-----+\n",
            "| BirthAsphyxia(yes) | 0.1 |\n",
            "+--------------------+-----+\n",
            "| BirthAsphyxia(no)  | 0.9 |\n",
            "+--------------------+-----+\n",
            "\n",
            "+-----------------+--------------------+-------------------+\n",
            "| BirthAsphyxia   | BirthAsphyxia(yes) | BirthAsphyxia(no) |\n",
            "+-----------------+--------------------+-------------------+\n",
            "| Disease(PFC)    | 0.2                | 0.03061224        |\n",
            "+-----------------+--------------------+-------------------+\n",
            "| Disease(TGA)    | 0.3                | 0.33673469        |\n",
            "+-----------------+--------------------+-------------------+\n",
            "| Disease(Fallot) | 0.25               | 0.29591837        |\n",
            "+-----------------+--------------------+-------------------+\n",
            "| Disease(PAIVS)  | 0.15               | 0.23469388        |\n",
            "+-----------------+--------------------+-------------------+\n",
            "| Disease(TAPVD)  | 0.05               | 0.05102041        |\n",
            "+-----------------+--------------------+-------------------+\n",
            "| Disease(Lung)   | 0.05               | 0.05102041        |\n",
            "+-----------------+--------------------+-------------------+\n",
            "\n",
            "+-----------+--------------+--------------+-----------------+----------------+----------------+---------------+\n",
            "| Disease   | Disease(PFC) | Disease(TGA) | Disease(Fallot) | Disease(PAIVS) | Disease(TAPVD) | Disease(Lung) |\n",
            "+-----------+--------------+--------------+-----------------+----------------+----------------+---------------+\n",
            "| Sick(yes) | 0.4          | 0.3          | 0.2             | 0.3            | 0.7            | 0.7           |\n",
            "+-----------+--------------+--------------+-----------------+----------------+----------------+---------------+\n",
            "| Sick(no)  | 0.6          | 0.7          | 0.8             | 0.7            | 0.3            | 0.3           |\n",
            "+-----------+--------------+--------------+-----------------+----------------+----------------+---------------+\n",
            "\n",
            "+------------------------+--------------+--------------+-----------------+----------------+----------------+---------------+\n",
            "| Disease                | Disease(PFC) | Disease(TGA) | Disease(Fallot) | Disease(PAIVS) | Disease(TAPVD) | Disease(Lung) |\n",
            "+------------------------+--------------+--------------+-----------------+----------------+----------------+---------------+\n",
            "| LungParench(Normal)    | 0.6          | 0.8          | 0.8             | 0.8            | 0.1            | 0.03          |\n",
            "+------------------------+--------------+--------------+-----------------+----------------+----------------+---------------+\n",
            "| LungParench(Congested) | 0.1          | 0.05         | 0.05            | 0.05           | 0.6            | 0.25          |\n",
            "+------------------------+--------------+--------------+-----------------+----------------+----------------+---------------+\n",
            "| LungParench(Abnormal)  | 0.3          | 0.15         | 0.15            | 0.15           | 0.3            | 0.72          |\n",
            "+------------------------+--------------+--------------+-----------------+----------------+----------------+---------------+\n",
            "\n",
            "+---------------+---------------------+---------------------+------------------------+------------------------+-----------------------+-----------------------+\n",
            "| LungParench   | LungParench(Normal) | LungParench(Normal) | LungParench(Congested) | LungParench(Congested) | LungParench(Abnormal) | LungParench(Abnormal) |\n",
            "+---------------+---------------------+---------------------+------------------------+------------------------+-----------------------+-----------------------+\n",
            "| Sick          | Sick(yes)           | Sick(no)            | Sick(yes)              | Sick(no)               | Sick(yes)             | Sick(no)              |\n",
            "+---------------+---------------------+---------------------+------------------------+------------------------+-----------------------+-----------------------+\n",
            "| Grunting(yes) | 0.2                 | 0.05                | 0.4                    | 0.2                    | 0.8                   | 0.6                   |\n",
            "+---------------+---------------------+---------------------+------------------------+------------------------+-----------------------+-----------------------+\n",
            "| Grunting(no)  | 0.8                 | 0.95                | 0.6                    | 0.8                    | 0.2                   | 0.4                   |\n",
            "+---------------+---------------------+---------------------+------------------------+------------------------+-----------------------+-----------------------+\n",
            "\n",
            "+---------------------+---------------+--------------+\n",
            "| Grunting            | Grunting(yes) | Grunting(no) |\n",
            "+---------------------+---------------+--------------+\n",
            "| GruntingReport(yes) | 0.8           | 0.1          |\n",
            "+---------------------+---------------+--------------+\n",
            "| GruntingReport(no)  | 0.2           | 0.9          |\n",
            "+---------------------+---------------+--------------+\n"
          ],
          "name": "stdout"
        }
      ]
    },
    {
      "cell_type": "markdown",
      "metadata": {
        "id": "i354pvxqbjdx"
      },
      "source": [
        "# Problem 2: Exact Inference (30 points)\n",
        "\n",
        "For these questions, write the analytical expression for each of the queries in terms of the CPD parameters. You can take advantage of normalization to simplify these expressions. Then plug in the parameters from the model to compute the requested values. (Note that pgmpy does contain functionality for performing inference, as shown in Section 4 of this [notebook](https://github.com/pgmpy/pgmpy_notebook/blob/master/notebooks/2.%20Bayesian%20Networks.ipynb). While you can use this to check your solution, we are looking for the correct analytical expressions used to derive it.)\n",
        "\n",
        "**Note**: Please be precise with RV notation. Upper-case RVs should only refer to the queried distribution, while lower-case RVs should refer to either observed RVs or dummy RVs being summed over.\n",
        "\n",
        "1.   Compute the distribution $\\Pr(Sick \\mid BirthAsphyxia = yes)$. For compactness, you can write $\\Pr(S \\mid ba)$.\n",
        "2.   Compute the distribution $\\Pr(Grunting \\mid Disease = PFC, Sick = yes)$. For compactness, you can write $\\Pr(G \\mid d, s)$.\n",
        "3.   Compute the distribution $\\Pr(GruntingReport \\mid Disease = PFC, Sick = yes)$. For compactness, you can write $\\Pr(GR \\mid d, s)$. Briefly explain why these probabilities are not identical to those of the previous part. (Hint: Can you start from your result from the previous part?)"
      ]
    },
    {
      "cell_type": "markdown",
      "metadata": {
        "id": "_KnyNNqMdNY3"
      },
      "source": [
        "ENTER YOUR SOLUTIONS HERE\n",
        "\n",
        "1. \n",
        "  \n",
        "$\\Pr(Sick, BirthAsphyxia)$ = $ \\sum_{d\\in Disease} \\Pr(Sick \\mid Disease) \\Pr(Disease \\mid BirthAsphyxia) \\Pr(BirthAsphyxia)$ \n",
        "\n",
        "$\\Pr(Sick|BirthAsphyxia = yes)$ = $\\frac {\\Pr(Sick, BirthAsphyxia = yes)} {\\Pr(BirthAsphyxia = yes)} $\n",
        "\n",
        "By the first equation, we could get the joint distribution of Sick and BirthAsphyxia. Since we just want the BirthAsphyxia = yes probability, we could get this table instead:\n",
        "\\begin{array}{c|c|c}\n",
        "\\text{S}&\\text{BA}&\\text{Pr(S|BA)}\\\\\n",
        "\\hline\n",
        "yes&yes&0.335\\\\\n",
        "no&yes&0.665\n",
        "\\end{array}\n",
        "\n",
        "In tha table,\n",
        "0.335 = $\\Pr(Sick(yes) \\mid Disease(PFC)) \\Pr(Disease(PFC) \\mid BirthAsphyxia(yes))$ + \n",
        "$\\Pr(Sick(yes) \\mid Disease(TGA))\\Pr(Disease(TGA) \\mid BirthAsphyxia(yes)$ + \n",
        "$\\Pr(Sick(yes) \\mid Disease(Fallot))\\Pr(Disease(Fallot) \\mid BirthAsphyxia(yes)$ +\n",
        "$\\Pr(Sick(yes) \\mid Disease(PAIVS))\\Pr(Disease(PAIVS) \\mid BirthAsphyxia(yes)$ + \n",
        "$\\Pr(Sick(yes) \\mid Disease(TAPVD))\\Pr(Disease(TAPVD) \\mid BirthAsphyxia(yes)$ + \n",
        "$\\Pr(Sick(yes) \\mid Disease(Lung))\\Pr(Disease(Lung) \\mid BirthAsphyxia(yes)$\n",
        " = 0.4 * 0.2 + 0.3 * 0.3 + 0.2 * 0.25 + 0.3 * 0.15 +0.7 * 0.05+0.7 * 0.05 = 0.33499 = 0.335\n",
        "\n",
        " 0.665 could be computed similarly by just replacing Sick(yes) with Sick(no).\n",
        "\n",
        "Normalization is omited in this case, since 0.335 + 0.665 = 1\n",
        "2.   P(G = yes|D =PFC, S = yes) = 0.2 * 0.6+0.4 * 0.1 + 0.8 * 0.3 = 0.4\n",
        "P(G = no| D = PFC, S = yes) = 0.8 * 0.6+0.6 * 0.1 + 0.2 * 0.3 = 0.6\n",
        "\n",
        "3.   P(GR|d,s) = P(GR|G,d,s)P(G|d,s)\n",
        "We can reuse our result from 2:\n",
        "We get the following:\n",
        "P(GR = yes|d,s) = 0.8 * 0.4+0.1 * 0.6 = 0.38\n",
        "P(GR = no|d,s) = 0.2 * 0.4+0.9 * 0.6 = 0.62\n",
        "\n",
        "The difference is because this equation P(GR|d,s) = P(GR|G,d,s)P(G|d,s). (GR is a child of G in this case)"
      ]
    },
    {
      "cell_type": "code",
      "metadata": {
        "colab": {
          "base_uri": "https://localhost:8080/"
        },
        "id": "-W27Cbn72ikz",
        "outputId": "e39ccb36-e887-4f83-ab74-7b31ff2b5504"
      },
      "source": [
        "#1\n",
        "from pgmpy.inference import VariableElimination\n",
        "infer = VariableElimination(child_model)\n",
        "g_dist = infer.query(['Sick'],evidence={'BirthAsphyxia': 'yes'})\n",
        "print(g_dist)"
      ],
      "execution_count": null,
      "outputs": [
        {
          "output_type": "stream",
          "text": [
            "Finding Elimination Order: : 100%|██████████| 18/18 [00:00<00:00, 2268.42it/s]\n",
            "Eliminating: RUQO2: 100%|██████████| 18/18 [00:00<00:00, 76.69it/s]"
          ],
          "name": "stderr"
        },
        {
          "output_type": "stream",
          "text": [
            "+-----------+-------------+\n",
            "| Sick      |   phi(Sick) |\n",
            "+===========+=============+\n",
            "| Sick(yes) |      0.3350 |\n",
            "+-----------+-------------+\n",
            "| Sick(no)  |      0.6650 |\n",
            "+-----------+-------------+\n"
          ],
          "name": "stdout"
        },
        {
          "output_type": "stream",
          "text": [
            "\n"
          ],
          "name": "stderr"
        }
      ]
    },
    {
      "cell_type": "code",
      "metadata": {
        "colab": {
          "base_uri": "https://localhost:8080/"
        },
        "id": "pOCGa89D-MdX",
        "outputId": "2e3cf5a8-098c-40c9-ce3a-380b0517059a"
      },
      "source": [
        "#2\n",
        "g_dist = infer.query(['Grunting'],evidence={'Disease': 'PFC', 'Sick':'yes'})\n",
        "print(g_dist)"
      ],
      "execution_count": null,
      "outputs": [
        {
          "output_type": "stream",
          "text": [
            "Finding Elimination Order: : 100%|██████████| 17/17 [00:00<00:00, 4254.62it/s]\n",
            "Eliminating: RUQO2: 100%|██████████| 17/17 [00:00<00:00, 231.10it/s]"
          ],
          "name": "stderr"
        },
        {
          "output_type": "stream",
          "text": [
            "+---------------+-----------------+\n",
            "| Grunting      |   phi(Grunting) |\n",
            "+===============+=================+\n",
            "| Grunting(yes) |          0.4000 |\n",
            "+---------------+-----------------+\n",
            "| Grunting(no)  |          0.6000 |\n",
            "+---------------+-----------------+\n"
          ],
          "name": "stdout"
        },
        {
          "output_type": "stream",
          "text": [
            "\n"
          ],
          "name": "stderr"
        }
      ]
    },
    {
      "cell_type": "code",
      "metadata": {
        "colab": {
          "base_uri": "https://localhost:8080/"
        },
        "id": "xe0qqlsdFLEy",
        "outputId": "fde5517e-292b-4645-e637-0f128a0d6a83"
      },
      "source": [
        "#3\n",
        "g_dist = infer.query(['GruntingReport'],evidence={'Disease': 'PFC', 'Sick':'yes'})\n",
        "print(g_dist)"
      ],
      "execution_count": null,
      "outputs": [
        {
          "output_type": "stream",
          "text": [
            "Finding Elimination Order: : 100%|██████████| 17/17 [00:00<00:00, 5064.15it/s]\n",
            "Eliminating: RUQO2: 100%|██████████| 17/17 [00:00<00:00, 178.14it/s]"
          ],
          "name": "stderr"
        },
        {
          "output_type": "stream",
          "text": [
            "+---------------------+-----------------------+\n",
            "| GruntingReport      |   phi(GruntingReport) |\n",
            "+=====================+=======================+\n",
            "| GruntingReport(yes) |                0.3800 |\n",
            "+---------------------+-----------------------+\n",
            "| GruntingReport(no)  |                0.6200 |\n",
            "+---------------------+-----------------------+\n"
          ],
          "name": "stdout"
        },
        {
          "output_type": "stream",
          "text": [
            "\n"
          ],
          "name": "stderr"
        }
      ]
    },
    {
      "cell_type": "markdown",
      "metadata": {
        "id": "F4cLW3cNdi0P"
      },
      "source": [
        "# Sampling Algorithms\n",
        "\n",
        "While exact inference will always get us the right values, the amount of computation increases dramatically for larger Bayesian networks. Approximate inference via sampling is an alternative method. The ```prior_sample``` function below generates a sample for a pgmpy Bayes net in the manner of prior sampling. It samples values one node at a time, assuming that nodes are ordered such that no node occurs before its parents. We also define a ```prob_given_parents``` utility function to interface with the underlying pgmpy CPD structures.\n",
        "\n",
        "(pgmpy also contains built-in sampling algorithms, but we will not be using them.)"
      ]
    },
    {
      "cell_type": "code",
      "metadata": {
        "id": "5tOqGcixPuK2"
      },
      "source": [
        "import numpy.random as npr\n",
        "\n",
        "def prior_sample(model, nodes):\n",
        "  \"\"\"\n",
        "  Generates and returns a single sample as a {variable: value} dictionary\n",
        "  \"\"\"\n",
        "  sample = {}\n",
        "  for n in nodes:\n",
        "    cpd = model.get_cpds(n)\n",
        "    values = (cpd.state_names)[n]\n",
        "    probs = prob_given_parents(cpd, sample)\n",
        "    sample[n] = npr.choice(values, p=probs)\n",
        "  return sample\n",
        "\n",
        "\n",
        "def prob_given_parents(cpd, sample):\n",
        "  \"\"\"\n",
        "  Returns probability distribution of the node to which cpd corresponds, \n",
        "  conditioned on its parents' values in sample\n",
        "  \"\"\"\n",
        "  factors = cpd.variables\n",
        "  states = cpd.state_names \n",
        "\n",
        "  col = 0\n",
        "  skip = 1\n",
        "  for i in range(len(factors)-1):\n",
        "    parent_var = factors[-i-1]\n",
        "    parent_val = sample[parent_var]\n",
        "    ind = states[parent_var].index(parent_val)\n",
        "    col += ind*skip\n",
        "    skip *= len(states[parent_var])\n",
        "\n",
        "  return (cpd.get_values())[:,col]  "
      ],
      "execution_count": null,
      "outputs": []
    },
    {
      "cell_type": "markdown",
      "metadata": {
        "id": "xlCYKFE9sGsB"
      },
      "source": [
        "## Coding 1 (15 points)\n",
        "\n",
        "Prior sampling does not take into account evidence variables, so we can implement a rejection sampling function that uses ```prior_sample```, followed by a check for consistency with provided evidence. The function below takes in the problem ```model``` and list of ```nodes``` (to be passed into ```prior_sample```), a query variable, the number of samples to attempt, and a dictionary of evidence variables and values. The estimated distribution of the query variable (also a dictionary) and the number of consistent samples generated should then be returned."
      ]
    },
    {
      "cell_type": "code",
      "metadata": {
        "id": "MYrQnnebg8lY"
      },
      "source": [
        "def check_sample(sample, evidence):\n",
        "  for key in evidence:\n",
        "      if sample[key] != evidence[key]:\n",
        "        return True\n",
        "  return False"
      ],
      "execution_count": null,
      "outputs": []
    },
    {
      "cell_type": "code",
      "metadata": {
        "id": "v9xboynqNm9E"
      },
      "source": [
        "def rejection_sample(model, nodes, N, query, evidence={}):\n",
        "  \"\"\"\n",
        "  INPUTS: Problem model, nodes, total number of samples to try (including \n",
        "  inconsistent ones), query variable, and a {variable: value} evidence dict\n",
        "  OUTPUTS: dist, a dictionary providing the estimated distribution for query\n",
        "           num_consistent, number of consistent samples generated\n",
        "  \"\"\"\n",
        "  dist = {val:0 for val in model.get_cpds(query).state_names[query]}\n",
        "  num_consistent = 0\n",
        "  for n in range(N):\n",
        "    sample = prior_sample(model,nodes)\n",
        "    if check_sample(sample,evidence): continue\n",
        "    num_consistent += 1\n",
        "    dist[sample[query]] += 1\n",
        "  for key in dist:\n",
        "    dist[key] /= num_consistent\n",
        "  return dist, num_consistent"
      ],
      "execution_count": null,
      "outputs": []
    },
    {
      "cell_type": "code",
      "metadata": {
        "id": "A1lG2jFEypre",
        "colab": {
          "base_uri": "https://localhost:8080/"
        },
        "outputId": "1062e548-a31a-4f11-f89d-91e4413e8f40"
      },
      "source": [
        "dist, num_samples = rejection_sample(child_model, NODES, 20000, 'XrayReport', evidence={'BirthAsphyxia':'yes'})\n",
        "print(\"XrayReport given BirthAsphyxia = yes: \", dist)\n",
        "print(\"Number of consistent samples: \", num_samples)"
      ],
      "execution_count": null,
      "outputs": [
        {
          "output_type": "stream",
          "text": [
            "XrayReport given BirthAsphyxia = yes:  {'Normal': 0.25835866261398177, 'Oligaemic': 0.29432624113475175, 'Plethoric': 0.20820668693009117, 'Grd_Glass': 0.0729483282674772, 'Asy/Patchy': 0.1661600810536981}\n",
            "Number of consistent samples:  1974\n"
          ],
          "name": "stdout"
        }
      ]
    },
    {
      "cell_type": "code",
      "metadata": {
        "colab": {
          "base_uri": "https://localhost:8080/"
        },
        "id": "T1t_7ZA6mTUX",
        "outputId": "d2add85f-887d-4b64-878a-8a498617dad9"
      },
      "source": [
        "dist, num_samples = rejection_sample(child_model, NODES, 1000, 'XrayReport', evidence={'BirthAsphyxia':'yes'})\n",
        "print(\"XrayReport given BirthAsphyxia = yes: \", dist)\n",
        "print(\"Number of consistent samples: \", num_samples)"
      ],
      "execution_count": null,
      "outputs": [
        {
          "output_type": "stream",
          "text": [
            "{'Normal': 0, 'Oligaemic': 0, 'Plethoric': 0, 'Grd_Glass': 0, 'Asy/Patchy': 0}\n",
            "XrayReport given BirthAsphyxia = yes:  {'Normal': 0.32727272727272727, 'Oligaemic': 0.23636363636363636, 'Plethoric': 0.21818181818181817, 'Grd_Glass': 0.05454545454545454, 'Asy/Patchy': 0.16363636363636364}\n",
            "Number of consistent samples:  110\n"
          ],
          "name": "stdout"
        }
      ]
    },
    {
      "cell_type": "code",
      "metadata": {
        "id": "OrscLU6u4XML"
      },
      "source": [
        "#R1 q2\n",
        "import numpy as np\n",
        "v1 = np.array([0.2507,0.2885,0.2069,0.0867,0.1672])"
      ],
      "execution_count": 4,
      "outputs": []
    },
    {
      "cell_type": "code",
      "metadata": {
        "id": "PM--cAo74kA1"
      },
      "source": [
        "v2 = np.array([0.32727272727272727,0.23636363636363636,0.21818181818181817,0.05454545454545454,0.16363636363636364])"
      ],
      "execution_count": 5,
      "outputs": []
    },
    {
      "cell_type": "code",
      "metadata": {
        "colab": {
          "base_uri": "https://localhost:8080/"
        },
        "id": "9kTStbWX5zEB",
        "outputId": "367cf715-2854-43c6-da68-18a767b58cc9"
      },
      "source": [
        "np.average(np.abs(v1-v2)/v1)"
      ],
      "execution_count": 9,
      "outputs": [
        {
          "output_type": "execute_result",
          "data": {
            "text/plain": [
              "0.18657276492260896"
            ]
          },
          "metadata": {
            "tags": []
          },
          "execution_count": 9
        }
      ]
    },
    {
      "cell_type": "code",
      "metadata": {
        "colab": {
          "base_uri": "https://localhost:8080/"
        },
        "id": "B_N8hoqUnCho",
        "outputId": "2950065e-f15a-4709-d321-8c8e12135816"
      },
      "source": [
        "((0.32727272727272727 - 0.2507)/0.2507 - (0.23636363636363636 - 0.2885)/0.2885 + (0.21818181818181817 - 0.2069)/0.2069 - (0.05454545454545454 - 0.0867)/0.0867 - (0.16363636363636364 - 0.1672)/0.1672)/5"
      ],
      "execution_count": null,
      "outputs": [
        {
          "output_type": "execute_result",
          "data": {
            "text/plain": [
              "0.18657276492260896"
            ]
          },
          "metadata": {
            "tags": []
          },
          "execution_count": 148
        }
      ]
    },
    {
      "cell_type": "markdown",
      "metadata": {
        "id": "CRWjAsg13y3s"
      },
      "source": [
        "## Response 1 (10 points)\n",
        "\n",
        "Running the above cell will estimate the distribution of 'XrayReport' given 'BirthAsphyxia' = 'yes' by requesting 20000 samples. If you implemented rejection sampling correctly, the estimated distribution should be on average within about 5% of the true distribution: ```{'Normal': 0.2507, 'Oligaemic': 0.2885, 'Plethoric': 0.2069, 'GrdGlass': 0.0867, 'Asy/Patchy': 0.1672}```\n",
        "\n",
        "1.  How many samples were actually consistent with the evidence and usable? Which probability does the fraction of consistent samples correspond to?\n",
        "\n",
        "2.  What happens to the estimated distribution when we request fewer samples? Give an average percentage difference between the estimated and true distribution for 1000 requested samples (show the code output above)."
      ]
    },
    {
      "cell_type": "markdown",
      "metadata": {
        "id": "SNvg5RmsF5q6"
      },
      "source": [
        "ENTER YOUR RESPONSES HERE\n",
        "\n",
        "1. \n",
        "\n",
        "In this current run, the number of consistent samples are 1974.\n",
        "The probability:\n",
        "1974/20000 = 9.87%\n",
        "\n",
        "2. \n",
        "if we request fewer samples, the estimated distribution is more deviated from the true distribution. \n",
        "An average percentage difference is around 19% between the estimated distribution and the true distribution. \n",
        "The calculation result is displayed above under #R1 q2"
      ]
    },
    {
      "cell_type": "markdown",
      "metadata": {
        "id": "HLL6gpl7PjcX"
      },
      "source": [
        "## Coding 2 (15 points)\n",
        "\n",
        "Rejection sampling can end up rejecting a large number of samples, wasting effort. Another sampling method is likelihood weighting, which guarantees that every sample is consistent and associates with each a weight. In the cell below we've partially implemented ```weighted_sample```, which generates a sample consistent with ```evidence```, along with the corresponding weight for that sample.\n",
        "\n",
        "First complete ```weighted_sample``` to correctly update the weight ```w``` whenever an evidence variable is assigned to a sample.\n",
        "\n",
        "Then complete ```likelihood_weighting```, which should be very similar to ```rejection_sample``` but without the consistency check. It should compute and return a distribution for ```query``` based on the weights returned by ```weighted_sample```."
      ]
    },
    {
      "cell_type": "code",
      "metadata": {
        "id": "ZE70dPaO42K0"
      },
      "source": [
        "def weighted_sample(model, nodes, evidence):\n",
        "  \"\"\"\n",
        "  Generate a sample consistent with evidence, along with corresponding weight\n",
        "  \"\"\"\n",
        "  w = 1\n",
        "  sample = {}\n",
        "  for n in nodes:\n",
        "    cpd = model.get_cpds(n)\n",
        "    values = (cpd.state_names)[n]\n",
        "    if n in evidence:\n",
        "      # YOUR CODE HERE\n",
        "      sample[n] = evidence[n]\n",
        "      index = values.index(sample[n])\n",
        "      w *= prob_given_parents(cpd,sample)[index]\n",
        "    else:\n",
        "      probs = prob_given_parents(cpd, sample)\n",
        "      sample[n] = npr.choice(values, p=probs)\n",
        "  return sample, w\n",
        "\n",
        "\n",
        "def likelihood_weighting(model, nodes, N, query, evidence={}):\n",
        "  \"\"\"\n",
        "  INPUTS: Problem model, nodes, query variable, number of samples, \n",
        "          and a {variable: value} evidence dict\n",
        "  OUTPUT: dist, a dictionary providing the estimated distribution for query\n",
        "  \"\"\"\n",
        "  dist = {val:0 for val in model.get_cpds(query).state_names[query]}\n",
        "  # YOUR CODE HERE\n",
        "  for n in range(N):\n",
        "    sample, w = weighted_sample(model,nodes,evidence)\n",
        "    dist[sample[query]] += w\n",
        "  sum = 0\n",
        "  for key in dist:\n",
        "    sum += dist[key]\n",
        "  for key in dist:\n",
        "    dist[key] /= sum\n",
        "  return dist"
      ],
      "execution_count": null,
      "outputs": []
    },
    {
      "cell_type": "code",
      "metadata": {
        "colab": {
          "base_uri": "https://localhost:8080/"
        },
        "id": "mpnTPqfW0Bhb",
        "outputId": "561829be-a262-4481-94e9-263f25dce5ac"
      },
      "source": [
        "dist = likelihood_weighting(child_model, NODES, 20000, 'XrayReport', evidence={'BirthAsphyxia':'yes'})\n",
        "print(\"XrayReport given BirthAsphyxia = yes: \", dist)"
      ],
      "execution_count": null,
      "outputs": [
        {
          "output_type": "stream",
          "text": [
            "XrayReport given BirthAsphyxia = yes:  {'Normal': 0.2526000000000061, 'Oligaemic': 0.2841500000000111, 'Plethoric': 0.20709999999999884, 'Grd_Glass': 0.08759999999999124, 'Asy/Patchy': 0.16854999999999268}\n"
          ],
          "name": "stdout"
        }
      ]
    },
    {
      "cell_type": "code",
      "metadata": {
        "id": "QDXQ70_wmrFT",
        "colab": {
          "base_uri": "https://localhost:8080/"
        },
        "outputId": "de6f449e-f1e6-46b2-ff72-0682bbd253b8"
      },
      "source": [
        "# CHANGE THE NUMBER OF SAMPLES BELOW\n",
        "dist = likelihood_weighting(child_model, NODES, 20000, 'Disease', evidence={'GruntingReport':'yes', 'LowerBodyO2':'<5', 'RUQO2':'<5', 'CO2Report':'<7.5', 'XrayReport':'Oligaemic'})\n",
        "print(\"Disease given reported evidence: \", dist)"
      ],
      "execution_count": null,
      "outputs": [
        {
          "output_type": "stream",
          "text": [
            "Disease given reported evidence:  {'PFC': 0.04492198553446674, 'TGA': 0.1985892940968425, 'Fallot': 0.3624114920270302, 'PAIVS': 0.34135987858547456, 'TAPVD': 0.02394297555556344, 'Lung': 0.02877437420062263}\n"
          ],
          "name": "stdout"
        }
      ]
    },
    {
      "cell_type": "code",
      "metadata": {
        "colab": {
          "base_uri": "https://localhost:8080/"
        },
        "id": "fdo14cAD3mYu",
        "outputId": "2e47c5ee-fd49-478a-f601-e3aaecdfd4e4"
      },
      "source": [
        "dist = likelihood_weighting(child_model, NODES, 4000, 'XrayReport', evidence={'BirthAsphyxia':'yes'})\n",
        "print(\"XrayReport given BirthAsphyxia = yes: \", dist)"
      ],
      "execution_count": null,
      "outputs": [
        {
          "output_type": "stream",
          "text": [
            "XrayReport given BirthAsphyxia = yes:  {'Normal': 0.2587499999999982, 'Oligaemic': 0.2812499999999971, 'Plethoric': 0.20375000000000085, 'Grd_Glass': 0.08775000000000133, 'Asy/Patchy': 0.16850000000000256}\n"
          ],
          "name": "stdout"
        }
      ]
    },
    {
      "cell_type": "code",
      "metadata": {
        "id": "BIFS9XEr6_dK"
      },
      "source": [
        "v2 = np.array([0.2587499999999982,0.2812499999999971,0.20375000000000085,0.08775000000000133,0.16850000000000256])"
      ],
      "execution_count": 10,
      "outputs": []
    },
    {
      "cell_type": "code",
      "metadata": {
        "colab": {
          "base_uri": "https://localhost:8080/"
        },
        "id": "WyiwPn7W7MJK",
        "outputId": "0d13eaf8-3f89-4fab-865d-315e8c1bbc6f"
      },
      "source": [
        "np.average(np.abs(v1-v2)/v1)"
      ],
      "execution_count": 11,
      "outputs": [
        {
          "output_type": "execute_result",
          "data": {
            "text/plain": [
              "0.018470133385435763"
            ]
          },
          "metadata": {
            "tags": []
          },
          "execution_count": 11
        }
      ]
    },
    {
      "cell_type": "code",
      "metadata": {
        "colab": {
          "base_uri": "https://localhost:8080/"
        },
        "id": "yoZ6DTuJ5wML",
        "outputId": "01774534-f399-4ae6-b8f4-874f5b55ad8b"
      },
      "source": [
        "# CHANGE THE NUMBER OF SAMPLES BELOW\n",
        "dist = likelihood_weighting(child_model, NODES, 4000, 'Disease', evidence={'GruntingReport':'yes', 'LowerBodyO2':'<5', 'RUQO2':'<5', 'CO2Report':'<7.5', 'XrayReport':'Oligaemic'})\n",
        "print(\"Disease given reported evidence: \", dist)"
      ],
      "execution_count": null,
      "outputs": [
        {
          "output_type": "stream",
          "text": [
            "Disease given reported evidence:  {'PFC': 0.026599920835460773, 'TGA': 0.22284534327654554, 'Fallot': 0.37852916134379117, 'PAIVS': 0.31879661310461727, 'TAPVD': 0.025767215710312767, 'Lung': 0.027461745729272413}\n"
          ],
          "name": "stdout"
        }
      ]
    },
    {
      "cell_type": "markdown",
      "metadata": {
        "id": "DeMZsH4qJX7y"
      },
      "source": [
        "## Response 2 (10 points)\n",
        "\n",
        "1.  To estimate the distribution of 'XrayReport' given 'BirthAsphyxia', we again request 20000 samples. However, you can try a smaller number of samples. What is the smallest number of samples to be sufficient for the estimate to be within 5% of the true distribution (show the code output above)? Comment on the efficiency of samples needed for likelihood weighting vs rejection sampling.\n",
        "\n",
        "2.  Likelihood weighting suffers when we have too many evidence variables or when the evidence specified is not common enough. For example, what happens when you query 'Disease' with ```evidence={'GruntingReport':'yes', 'LowerBodyO2':'<5', 'RUQO2':'<5', 'CO2Report':'<7.5', 'XrayReport':'Oligaemic'}``` using the same number of samples you found to be sufficient for the previous part? Explain your findings.\n",
        "\n",
        "For reference, the true conditional distribution of 'Disease' is ```{'PFC': 0.0426, 'TGA': 0.2099, 'Fallot': 0.3620, 'PAIVS': 0.3226, 'TAPVD': 0.0350, 'Lung': 0.0278}```.\n"
      ]
    },
    {
      "cell_type": "markdown",
      "metadata": {
        "id": "1rLDwMME_9W8"
      },
      "source": [
        "ENTER YOUR RESPONSES HERE\n",
        "\n",
        "1.  \n",
        "\n",
        "The true distribution is: {'Normal': 0.2507, 'Oligaemic': 0.2885, 'Plethoric': 0.2069, 'GrdGlass': 0.0867, 'Asy/Patchy': 0.1672}.\n",
        "In order to be within 5% of the true distribution, I try run the code with samples 4000 serveral times. I observe that the estimated results are all within 5% of the true distribution. \n",
        "\n",
        "For this example, we could see the efficiency of samples needed for liklihood is better than rejection sampling. \n",
        "\n",
        "2.  I observe that the estimated result is much away from the true distribution. For example, the 'PFC': 0.026599920835460773. But the true conditional distribution of 'Disease' is 'PFC': 0.042. This is because we have too many evidence variables that are observed. This leads to the fact that we do not have enough randomness in the sampling, which requires us to set the N: number of samples to be large to get a good estimation. "
      ]
    }
  ]
}