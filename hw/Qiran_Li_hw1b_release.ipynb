{
  "nbformat": 4,
  "nbformat_minor": 0,
  "metadata": {
    "colab": {
      "name": "Qiran Li - hw1b_release.ipynb",
      "provenance": [],
      "collapsed_sections": [],
      "toc_visible": true
    },
    "kernelspec": {
      "name": "python3",
      "display_name": "Python 3"
    }
  },
  "cells": [
    {
      "cell_type": "markdown",
      "metadata": {
        "id": "8QPTu5MjS56p"
      },
      "source": [
        "# Problem 1 (20 points)\n",
        "\n",
        "Consider the casino game of [blackjack](https://en.wikipedia.org/wiki/Blackjack). This involves two players, the agent and the dealer, both of whom aim to have a higher hand total than the other player without going over 21. The game starts with two cards dealt to each player, with one of the dealer's cards being shown.\n",
        "\n",
        "The agent can repeatedly \"hit\" (draw a card) until it \"busts\" (hand total surpasses 21) or until it chooses to \"stay\" (end its turn). If the agent busts, it reveals its hand and immediately loses; otherwise, the agent keep its hand hidden and the dealer takes its turn in a similar fashion. Both the player and dealer may adjust their strategies depending on what their opponent shows or does (the dealer does not have a fixed strategy).\n",
        "\n",
        "1. Suppose we formulate this as a search problem. Give a description of the state space and associated actions.\n",
        "\n",
        "2. Classify this task environment according to the six properties discussed in class, and include a one- or two-sentence justification for each."
      ]
    },
    {
      "cell_type": "markdown",
      "metadata": {
        "id": "ahj4C2B5WSWJ"
      },
      "source": [
        "ENTER YOUR RESPONSES HERE\n",
        "\n",
        "1. a. States: \\\\\n",
        "    Based on the rules on the wikipedia of blackjack, \"the value of cards two through ten is their pip value (2 through 10). Face cards (Jack, Queen, and King) are all worth ten. Aces can be worth one or eleven. A hand's value is the sum of the card values. Players are allowed to draw additional cards to improve their hands. A hand with an ace valued as 11 is called \"soft\", meaning that the hand will not bust by taking an additional card. The value of the ace will become one to prevent the hand from exceeding 21. Otherwise, the hand is called \"hard.\" \\\\\n",
        "  \\\n",
        "    The states could just be the sum of card values in the player’s hand. If it's without an ace, the sum of card values could be 4,5,6...,20. If it contains an ace, then the values could be 23,24,25...,31. Also, there should be 4 terminated states, win, lose, bust, perfect. \\\\\n",
        "  \\\n",
        "    So the states could be {4, 5, 6, ..., 20, 23, 24, 25, ..., 31, win, lose, bust, perfect}\n",
        "\n",
        "\n",
        "   b. Actions: \\\\\n",
        "    Actions could be \"hit\" or \"stay\". \\\\\n",
        "    So Actions = {hit, stay} \\\\\n",
        "\n",
        "2. a. Fully or partially observable? Partially observable \\\\\n",
        "    Because the agent does not know the hidden card that the dealer places face down. \n",
        "\n",
        "   b. Single-agent or multi-agent? Single-agent \\\\\n",
        "    Because there is only one agent that plays with the dealer at a time. \n",
        "\n",
        "   c. Deterministic or stochastic? Stochastic \\\\\n",
        "    Because the next card drawing is random. Also the hidden card of the dealer is also random.\n",
        "\n",
        "   d. Episodic or sequential? Sequential \\\\\n",
        "    Because the agent needs to add all drawing cards together. So hit or stay depends on what cards agent have now. \n",
        "\n",
        "   e. Static or dynamic? Static \\\\\n",
        "    Because the cards stay the same while the agent is thinking. \n",
        "\n",
        "   f. Discrete or continuous? Discrete \\\\\n",
        "    Because number of states, actions, percepts, time are all finite in blackjack. "
      ]
    },
    {
      "cell_type": "markdown",
      "metadata": {
        "id": "WPU5yQGJWgAr"
      },
      "source": [
        "# Problem 2: (20 points)\n",
        "\n",
        "In the state space graph below, S is the start state and G1 and G2 are both possible goal states. Costs are shown along edges and heuristic values are shown in the rectangles next to each node. Assume that search algorithms expand states, including goals, in alphabetical order when ties are present (G1 comes before G2).\n",
        "\n",
        "![hw1-graph.png](data:image/png;base64,iVBORw0KGgoAAAANSUhEUgAAAokAAAHtCAMAAABChBTCAAAAAXNSR0IArs4c6QAAAARnQU1BAACxjwv8YQUAAAIBUExURQAAAAAAAAAAAAAAAAAAAAAAAAAAAAAAAAAAAAAAAAAAAAAAAAAAAAAAAAAAAAAAAAAAAAAAAAAAAAAAAAAAAAAAAAAAAAAAAAAAAAAAAAAAAAAAAAAAAAAAAAAAAAAAAAAAAAAAAAAAAAAAAAAAAAAAAAAAAAAAAAAAAAAAAAAAAAAAAAAAAAQEBAUFBQAAAAAAAAAAAAAAAAAAAAICAgQEBAAAAAAAAAICAgQEBAAAAAAAAAAAAAAAAAEBAQICAgAAAAMDAwQEBAAAAAAAAAEBAQEBAQAAAAAAAAAAAAAAAAAAAAAAAAAAAAAAAAAAAAAAAAAAAAAAAAgICAsLCwAAAAkJCQoKCgwMDA0NDQ4ODg8PDxERERISEhQUFBUVFRcXFxgYGBoaGhsbGx8fHyMjIyQkJCYmJicnJygoKDMzMzQ0NDU1NTw8PD4+PkFBQUREREdHR09PT1BQUFNTU1RUVFdXV1hYWFlZWVpaWltbW2BgYGRkZGdnZ2lpaXBwcHJycnNzc3V1dXZ2dnd3d3p6en19fYGBgYaGhoiIiImJiYyMjJKSkpOTk5iYmJmZmZycnJ2dnaKioqWlpaampqenp6urq6ysrLGxsbW1tba2trq6uru7u7+/v8PDw8TExMzMzNDQ0NjY2N3d3eXl5ezs7PHx8fLy8v39/f7+/v///wQH/rgAAABVdFJOUwAMEBMgIiQpKi8wOjxAR0lKS1BVWFxgZ2lvcHZ8gIWMj5afo6Woqa6vuL/Cw8bGycvP0NHU1NXY2NjZ3N/h4+Pl5eXo6err7u/w8vP09fb4+fz9/v60prNmAAAACXBIWXMAABcRAAAXEQHKJvM/AAAwRklEQVR4Xu2di3sVxZruAxEYQW4CKiQGIjJJ4MxG4BwQUMlskLAz58yeOdtPuUQOCAEhQScCkS0alBgDARNgGyCDAiGE7c5feeryda9e3bX63r26qr/f82i6aq1Vi7z9pq5fVTcQRGQWrWreuHVXZzd0d+7ZurF51SLMJ4gcWdKyA9zsaFmCrxJELqxs/YAZ79iFK8M/37s/9dvU/Xu3h69cOMby3m9die8hiKxZu59Z7tTlW7+5uXX5FHtl/1p8H0FkyZp3Ac5dnUDzuZm4eg5g5xp8L0FkxfItAGdH0XZqRs8CbFmO7yeILFjYDnDiB3RcbX44AdC+ED9DEKmz7CD85Vt0mz/ffgwHluGnCCJl3gD44iFaLYiHXwC8gZ8jiFRZD/A1+iwMXwOsx08SmVKyFYZ5bQDfo8nC8T1A2zz8NJEVpVthmLcdPvVOIPpz61PYTlbMkpWt+5jxjl/88e6TZ89f/P7i+bMnd4cvHmd55q4wtMEnf0ODhedvn0Abfp5IH7HCcObar3Nufr12hr1i5grDevg0uhGZFT+lvmJWrNkN0D/6FM3n5ulov5ErDGzUHLVpltyiEXQ28BWG8w/QdmoenDdvhWFZ1MFKBTZsoXnF1OErDKcn0HG1mTht2ArDwoORpm+q+RoO0GpLyiw7CB/dQLf5c+OwUSsM7fAF2ioOX0A7lkOkA+srXZpFqwUxe8mg/tFy+EvYlRUVDz8GCodIk/UAw+izMFw3Z4VhC4Rba67Ft7AFSyKSw1cYxtFk4Rg3ZYVhDZxAS8XlBFC8YlrM2w4nH6HFwvLopBkrDO9CcBiYPz/ATiyLSEobHJ1Bg4Vn5qgJKwxr4SwaKj5ngTYUpMN6OBndiMyKJw3oK+4H/wjtMIzCfiyNSAQbNUdtmiWP9B9Br4RzaKcknAPa8ZcCy6IOViqwYYvm84qtcBXdlISr0IrlEfFZeBCuo7GiM6z7CsMHoNrFd+e7/s+A8Vn/Nzcrc42/fP8lz/38q9uYYTMBH2B5RHza4RLaKg6X9F5hWAKn0EwObn7OXWjzlfTiL19hmtH/i8iqcArodIikLIePwq6sqJg9rPUKQwtcRi/ZPOxHu9l8w7NvYkJyxGXFy9CCJRJx2QLh1pprcUPrFYYdnmiwO0fQbBX6ef6XmEBEXoVbsANLJGKyBk6jpeJyWuMVhkVwDK1k8VD0D1mTLPqHt3/6khlTuI7VlP0/Pfzt4XfydbjDMyscAzpJLBm7ITgMzJ8JjVcYVsEFdJKFbJo/rzS+D3/6TMQufv85jlPQiq6AxguwCsskYrEWzqOh4nNe3xWGZriCTkJkb/Bzv9icX8Rb4DtMIlegGcskYrEf/CO0w/BA3xWGjTCMTkLEqPmIf5CYMKLbicOwEcsk4rAS+tFOSejXdoVhK1RPDd5RmcyNeI/7TT/DViyTiEMrjKKbkjCq7QrDHriHTpLIPqB/lYhOvIkp5B7swjKJOOyDWrv4ovAU9mF5utEJ99FJEjFecU3QuMGJRZdd70MnlknEYAmcQTMl44yuKwzdMIVOkogpnIDGWY6uv8KUxRR0Y5lEDFrgGnopGdd0XWEAQCMhwmTSid+La86Rqr7kbZnpXu5jH8UyiRjsAO9JD3H4VdcVhm74bzSSRJhMOtGawWaI1T4EZ76dWQKqE5OwCI6jlZJyXNMVhk54gE6SCJd5nOjsOOLMN6YqUD8xCavgIjopKRc1XWHY5Ro7C5tJJ/4krgUOJ8p4HHf8A+Me7MEyieg0B+4rnR4Z4MoPDD3GjBr8qOkKw1b4GZ0kETXel5jguAbT3/AkuCYhBbdpPjEBG+EuOknNVK8UnjPgGzp2V9MVBvcai6jyjmCCU+1ErCd/wqQTWmNJwlZ4gk5SMiZ1RwYwV8kTTWsE97qztJrDaVVOlCswSiPSunMi9sAzdJIS0TBXmMRsFc80XWFwx+I8FMGJn1VmrZ1O/EVGLiqNSLE4ieiE5+gkJcyJvWPTc3Ozkz38Dgxhtornmo4cPfGJckRSmbZ2OPGh3FNQY96b4hOT0A0v0ElKxnqtanCc34I+TKh4oetsmjtmW1aK8KVVKzqcKC49aysIxWwnAuAf6KQAHoubgAkVv+u6wuDZx4Kryke+uc3MeOc7YUzhRDlsrmFE2seSjG74OzopgEAnalsnevf2OeYRLfi0zkO8rlAVjEN7+xIR0E9kTI0MVGZyME+Frv1E1X7nm7KBdsC7hrjc7MDZYZyAf8XyiDjs8h87z42LkYoN5qp4pu0Kg+IMiIeyTbY4IvY74wyOA6cT6QyIZATMJ46g5BaYrULX+cRa5+Lc/KZf9hC//M5aT6nejc9wbqmic3GS4b/GIjuHDjBfha5rLIx0zgr7EEsjYtEMP6KTVAxx9/XwCcXgEcuwvisMdH5iAfCPxRFLLFPiMtCJusbicHamcKbsu1gWEQ//+EThRBmDI2a2/Zyoa3wih87ZLgC+MduD3H19rHGewgVozFegbcy2IPmzB/4FSyLi4ruPZVL6rwLmK9B2H4tgOXzs2qgXCXoeSwr47+3rQwdaYLYCbff2SegZVfXHd7/zrG3FATG1iNlensIfsTw9WXgg0XP7DtJz+5ITcAbE5GAPQO/g5Nxj9rN2qKy+Z0Ag9CzTulP2c3Esoj7f+b9EUxGJt/GrCDXpnBWm/wpDxGfeo7sigd9EqCn5+YkV2uCTCFb0nVxVQk6swfz5ixe/+tq6NzccSuFM2d1YqM7M2w6fhm+gyYkpsK5987b3DmGLwSnzOdsO+NNcQw9byIkp8BoasELSZw/8AUvWnfUQejKHnJgG29CANodL/DyWKtgI+otwqy3kxDRYjAZEDv2PMj+jqpplB+DjUGvQ5MRUeAs9KHlz4YHA43Fqc92sFYaF7QAngoPEfiAnpsJS9KDgvfnlfpapm+VbAM76R3GPnmW6oQChISd6mL/BOXCGpSyrzM939rJmJ8C5q6onnHImrp4DeJecmJyl76EFJRtEZpmfea9g7X6mzKnL3unFW5dPsVc+XNtATkzKYtYPcsLaZkEbHI1uxZmj0CY/bhwrW99n6hy7cGX49r37U79N3b/38/CVC8dY3getfI2dnJgMV8PMeBVfmbcdTkZtoB+dhO3z8PMGsqRlB4pU4X+2YBwmOTERr1YaZnSkbJs5fIWh9rDlr/LtETAi8mTRquaNW/d0/h/o7ty1dWPzqspeHXJiApY6ZrQ3L36T/ziEbbNgPcB1VM2D+FA0sFQT2LwNLyqQE2PjbJi38TaZ14+vydcQNoK+VGO1JbLwJum+FGAxXtqQE2My/7WKDw+tEzXhq+BZHFl2AA6r16BL7cTN7G8XL23IifGoaphfwsz2Q56/dL7CcFoVJFZmJ4p1ALdU5MQ4zN8gLCjYbA2WGxpeWocXTvgKw3lvFHeZnciqRG+lqBZkeojvQRsYU02IkROdHURsmH3hKwz9o64dfyV2Ii6NuipFpSD22Wo9isPxS+9EZ8P8ltUw+yNWGM5cc54OUWIniirRUymqBOEnWvWNjQ3xQyflcUJOSu7ExY6wm82ebmFN5ArD8YvDd588e/7i9xfPy+tEO1qkWj2FIFPsTaIu5NvEez2TEKV2YtSG2Yl7hQH1DIsxumOV6K4UFYL0AozJqxn2dk/7XGYnOmIdDm2I5kMBrjB0Q3dnaZ3oCKCrqhS9grAqsQcveTs9iJc25XWiM9YhQsOsprROtKtEV6XoFYQNV+xHJ/GGGi9tyurE6oYZM+NTVic6qsTqStEryIBj3Z43z/woXicldaIz1iFiB1FJWZ3oqBKrK0VVnYennnKqEpJSOrE61gEzE1FSJ1ZViVWVYrAT3fM4JXSiJ9YhBUrqxKoqsapS9Agyy16vNMh99jjapnROVMQ6pEA5neiqEp2VokcQfiY+XjJYp7HsTlTGOiSnnE50VYnOStFIJzau3tTFfo2OlgWYEZ8asQ7JKacTJVJOTFh4BOHD5Uo/UUsnruY2FHRgTlySLKkEQE7EhIVXEPYevcfOrewf3dXa1NTyTlInxoh1CI3SibOTA+LsY+9qPzlRPyeuZv/mJnm54GX5Mx4xYx1ConLitP243QHvnoPyOZGpUTWz7dak4Io0sqZ5NV4nIcOGWaBw4jSrD3uGxsZ4bGgf5lUonxMHHat9k6ypwEubgivSBKmc2p801iEQhROZA/vE3z1/gJBnf2r5nDjucB9z5Qhe2hRckb0AyUfMqcY6qPEKz/zXgw3QkH41QBSksJiw8AriCAWbZpfuZeeCK/IywDt4GZuUYx3UeIVnVaJVERq+3i+lxYSFopFgf5A9YpjCO9CeoLCCK/J68sY57VgHNR7h+eKWvW/I7LUtKS4mLBROnOW7BgbHxviDN2W/pYpiK8K6iU2NqzexNrqrI9bAJf1YBzUe4R874kJVgaEldOLcNB+8CRSTCQVXpIO1zvbE9juRZ3GyiHVQ4xF+zPnwtKqEpIxOZJ1nOcGq2NmngRMZHU1NLaxajNplzCbWQU2gE93zOOV0oh+Fd2JXU6O4ZF3GaDOLGcU6qPEIP+JskBXB8uREN4V3Ii6wiOsIy33OWIdsG2aBR/iqJf7qOBQBOdGNPk5czepHvAwk6yUVD+RETFiY7MRXvL9uLbKMdVDjEZ4Nlyv9RHJiCIqtSJOjRQ7txGxjHdR4hKexM/6ioSm2ImyYshcvG1Y4rn3IvWEWkBMxYWGaE19mv6K17twaar3FGevwVl4+VAjPl53xUjTV7gV/cqKbgiuyF6BFXi3oAlghL2uTQ6yDGo/wfJHfXu3r9R4DQ050U3BFWEdRziIueCd4ZjuXWAc1XuF7Ku7jrtQsLjQKUnBMWBjnxAZmQHinqWkT+9EVsNqXT6yDGq/wjlCwQbPPI5KSY8LCPCc2cisKApad84p1UOMVnoeCDYmakJ+kqlk0XiSE5OY7saFB7DHdu8l/pS+/WAc1CuHZgBl6R8ZG+G4W75I/OdGNEYrkGeugRiU8t6LA8FOl5S+JCYtyOjHXWAc1SuFn5En7I4aftC+Fx4RFGZ2Yc6yDmsjCkxPd6K5IfZZUPJATMWFROifmH+ughpyICQuZGQ38qI7UI9ZBDTkRExZvy9wo6Puc4YI0zAJyIibKSJ1iHdSQEzFRPuoW66CGnIiJslHHWAc15ERMlIx6xjqoISdiolTUN9ZBDTkREyWi3rEOasiJmCgN9Y91UENOxERZKECsgxpyIibKQSFiHdSUwomvdyl3V8obgokyUKQlFQ8lcGJjB1ceE07EHSmRE4sS66DGfCeukKcHYsqJyC+NE4sT66DGdCc28i1tfEsRpp2Im1ISJxa6YRbgPy4K+Ek92Auwd0WN82A0/HXiUqhYBzXRg6D0ioECaGmsdTKR/H0wYTIFi3UoJ62vsP+V24mFi3UoMaV2YvFiHUpMiZ1YxFiHElNaJxYz1qHElNSJRY11KDHldGJhYx1KTBmdWOBYhxJTPicWf0mlnJTOicWOdSgxJXNi0WMdSkypnEgNc4EpkxM1iHUoMeVxIsU6FJuyOJFiHYpOSZxIsQ5FZkUTo5XdG/7Tdfi+vGmY0B6KdSg2chOLBWYiqjxdoViHoiP29Vm4nhUmMzGhNRTroDfyzmFCZyjWQXPkrcOEvlCsg/bIm4cJXaElFQOQtw8TmkKxDiYg7x8mtIRiHcxA3kFMaAg1zKYg7yEm9INiHYxB3kVM6AbFOhiEvI2Y0AuKdTAKeSMxoRUU62AW8lZiQiMo1sE05L3EhDZQrIN5yLuJCU2gWAcTkfcTE3pAsQ5GIm8oJnSAYh0MRd5STBQfWlIxFnlTMVF4KNbBXORdxUTBoVgHk5H3FRP5smhV88atuzq7obtzz9aNzasWYX4NzGyYI4pgJkIEeWfzF2FJyw751Q52tCzBVxWYGOsQWQQTqasIK1v3sa87fvHHu0+ePX/x+4vnz57cHb54nOW937oS31NNdrEOK1r3AnRtcm2+zYHoIhhIfUVYu5990Zlrv+IDvyr8eu0Me2X/WnxfhexiHVYwG0reeRmz8iG6CAZSXxHW7AboH32KX+nm6Wg/wM41+F4ku1gHfjAGvNPBnyQHexsxMwdiiGAe9RVh+RaA8w/wy9Q8OA+wZTm+n5FlrEMTQNMC9vMV7sUmmZc9MUQwj/qKsJD19k5P4PfUZuI0QPtC+ZFsYx1WWG3yAla86vHXGRBDBPOoswjLDsJHN/A7/LlxGA4sY5/IL9aBP+4VL7MluggGUmcR3gC4NItfEMTsJYA38ox1YO10Lk6MLoKB1FmE9QDDWHoYrgP8s/QgJ/NYh5ycGF2E9fhJg6ivCPPaAMax6HCMA/xJ2jCPJZUOz9lVGRBLhLZ5+GlDqLMI87bDyUdYcFgenUQj5hDr0Mi+pgWvMyOmCNuNsmK9RWiDozNYbHhmjnIf5hLrwBtnPp2TKXFFaMPPG0GdRVgPJ6N/PfsHnIA/5xLr0NgF0IrXmRFXhJMm9RXrLAIbK0WtkCWPcho8bgLoynqJpfAi5EGdRVgWtYtagXVWc5hSe521za/gdVYUXoQ8qLMICw/CdSwuOsNwIPOFhtXMiK/jdVYUXoQ8qLcI7XAJC4vDJWjHcrLi5Tw6iUUXIRfqLMJy+CjsfLqK2cOQbSRALkYsugi5UG8RtkC4FcZa3IAtWFIm5GLEoouQD3UWYQ2cxoLichoyDNXLx4gFFyEf6i3CbggO/vFnAnZiWemTjxELLkJO1FmEtXAei4nPecgqjDwnIxZbhJyotwj7wT8uNwwPYD+WljY8KrHDZhPmpk6xRciJOouwEvqxkCT0Q0b7vJgRnWS0qargIuRDvUVohVEsIwmjWTWhvE6s0IW5aeMjwlQvQM8YJvzJTIR8COmEmT52IwYx4SW+CPug1t4tyfTIAPvm3sFx34mmp7APy9MSHxHG+F/AACb8MVcEJ4+5IIAJL7FFWAJnsAglM9yGiG/FcAY0PhjBT4QITjRXBCcBTowtQgtcwxJUTPeIr0UeY66Ka9mHsWaHnwhRnGisCE6CnBhXhB3g3d9fgXcJKvg58VfYgSVqiJ8IUZxorAhOgpwYU4RFcBwLUDEpvnRwmlWO46zj7ufEueOgyyFa7e69X74iRHGiRiJscIc3+zvBQZATY4qwCi7i51WITqJ1F8Z7mCNrcxFWYZlF5xBsrvairwiRnKiPCAAbqvce+TvBQaAT44nQ7LubUHxnuBmMuR+hGcssOvyogCov+ooQyYn6iMB/qyov+jvBQaAT44mwEe7i51WI7wzpxLuwEcssOvLQCocXfUWwnDjJG4iBgHhm3URweNHfCXNzs+NcgMHHwU6MJ8JWeIKfVyG+szdcxNoT2IplFh3r+BTbi74iSCdOs26yoM+3i6KfCPb+YH8nzNkCDE6JH5itIp4Ie+AZfl6FnEzs8x2pWDyDXVhm0bFugu1FXxGEE3sqs1k9fn+YOoqAXvR3gmM6T15hvop4InTCc/y8Cjl2ZlXCFGb48BzfqxfCi74iCCc6GcIXVDyHTqlrVsyXvMRZLFnKeVXymmCd4E3BBsFbgnbBZgH+MoJ27kV/J1g1og3mq4gnQje8wM8rsecTeycxpyYv8J26wbzoKwI6sYcJMC6rA5/dwC/g39IxyjbBe4JDEvHdGdG+2F8EWSWxnsnMoLjydeIL6EZ3RQHgH/h5JY5KuTegXvwd36cfrH7wEUE6sVfYb1xc+4xaTBVB1EhywIB/mSJbDRMB3RWFbvg7fl6Nc93Zr1nSt05kN+Hf/USQ/UQcp4hGqnYcis4i/NlHhFnxFmwWh0RCXiuJVyf69w44k5Uugu98jp79RNE6B/cTrflEcRf6MKFAVxG2rZvvJ4KcuMGhWuAsTrx+4i7fEZNkyq4X/c5LeYbv0QsxYvEVocqJsmnChIJn8H/FO/TiPX6ykZ8IYuKmBxOBTnwGe6S5IhEwi4Q8Ri+OYFqFflNp6MNQ84nOhM9deAL/Kd6RGTh6ESMZOarZJkY4crTTLoc+chgkh0RyeCSHSnLYJIZQSysi4NGXfiJUaRDoxHhOCJpZt5CdA+sfo0K35QXbhyHXWCoJn7twF/7NNgo6JZ5R5LhbjMFfEvM281M+kM16bIl9BKufCNGcGM8JzfAjfj4A0Vv0c+KwVuvODh8GiBDJifqIIJ3oOArYTwQxZxC6dY4nQugIDNE++zlRp1icKh9GicURTYOPCvqIwE/qrzqS2k8Eab6wI5Z4IoSOSgusE/UJzfNEhQXHJ1qzOGJ61Wc2Sx8RtrmPRvcTYYb/2qFncWKK4BepO90zZi2yBs7pahSu7ImUDY7Zhj7HrG7tKX6NRNj8prvj6SeCqIfk7JU0oo8T44oQsIWjZ2iK3YNpeQv8Fv/N3sfCfvfJuVl52YsvKNBIBLcP/UUYEb/54EyY1b64IgRua3Pgt/Zs9t4+Jz4qGCvCTGXVF8EXFMQWwWeXq4xEs/Ez4lP4I5anJUH7nbFJ4vj0Es0VwY7KYvSJChLzvcQXwW/n/5jjT6HXN0rR3OMPhBPnJi0l/BbfTT4DwrbioOykYPbc3F9FbiTexi904XsayuzkkJy+GQmIxDH3SJgp5sEB1j6NsF5775Dvn6PR5+LMDFkCoCKI8FZE8AvdpHNC1IdYmqaQCIxYIvh1GdXUdCIdHcggERixREjRiQ07UzhJdDeWpS0kAiOOCGk6kY6YZhRahFf2QldGJ0dWEUeENJ2Ywonzf8CSNKbAIrTwXn7WT+gSxBAhVScuh8M+qyeBmPIokoKK8PI7YryZixNjiJCqE+nxTJyCisCfJsy9mIsTY4iQrhMXHoj0sP1qrsNBMx5ZV0gRWgG6mvgpNvk4MboIyZ34Nq/yo/FXLKoKeownIzsROqBjAd8MnJMTo4uQ3InSXNHAopzQo40ZGYrQtJr/n2mfkxMji5CGE/GF0Kg+MfP/4M+vYYn6U9hn3ufoxKgiFMSJM0d5VbltMZapPW1wNOAuRF/wr7HeHwlWTG5ODCGCk2I48dFJKTZ4zsrVlHnb4aR/24S/cBSw7CSwUvJzYrAITgrhRNZP/5MUG2AdFqs589oCeuyRZdPPicEiOCmCE4cB/lnakLPNsztET9YDXMdfUEUZnBgogpP6O3H2Eh8wLua7FRH7eFK9YYPHS7UXGsrhxAARnNTdiTcOw0Exhbaucq4FbBAl686yA3C45vJrSZzoL4KTOjtx4jRAu7WosEHakLPNiBmdhe0Ap2vER5XFib4iOJioJcjsSK2tFik68cF5gD841vsXs3+0xWYjmujlWwDOKwOYS+NEPxFsuBPUgogT4tUnNaTlxKej/QC7XaF4r1kH/jDMaKLX7AToH/VudiuRE2uLIJFOUAsi9+Zm6MRfr51hX/ChIkr+TfHVgkNmLLqs3c9+lzPXXAcjlMqJtURg2E5QCTLNT0Nm/2XnxOPsC/a1qjewLX6LvYhsM2MUvbL1ffbLHL84fPfJs+cvfn/x/NmTuyVzolqEHy9WnKAQhB+jM8DPDcnOifC/Wnz2979qXBPd0LCkZQf+RjaoRlh0dyJDIULFCQpBHkPPuGigs3Ni0BlQ6/CfyTCkiWYsWtW8ceuezm7o7ty1dWMZncgQIsg7y0RoXlVxgkKQmSG+bp2pE/GjtZnvbKKNiYtwkrcTX27iMDlb+U/MrBPyvmLCoqYg9XUi6y46m2hD4iKc5O3ETailpL4Vo/w3YMKisE6saqJNiYtwkLcTeXVo07UAc+uD/EdgwiJLJ/KzoFTPHAmraVUTbUhchI1KNnnkao2zmxI6sUiIXzNHJ9Z8amp4TQ2Mi7BQKiOOz6pxqB850U1YJ872iuemYspJFE3Ni4tAasjGfs0acc7kRDdhncjaZn5WHqacRNPUuLgIiVq2x7UPPSYnugnpxGn+efZ9mHQSUVPz4iI4atnY3+4gXrohJ7oJ6cQBgOl0nGhiXEQt2VhDUivcnpzoJpwT2R/3GH9vKk40MS5CLVsf//tVQ050E8qJsz3iedLs+zDDSRxNjYuLUAtfeZaYB3Kim1BOHJLPvWHfJ9NVxNPUsLgIpTJswMK6iTNDPdDnOY+cnOgmjBOZouLD7PtEupq4mhoVF6FUZpx3E6fl4wncZ8KTE92EcWIf9IhZMfZ9Il1NbE1NiotQKjPIuoloRM8YmpzoJoQT2Z82G64w2PeJn9Uk0NScuAilMr3QM9vTMz43o4hTLqMTx8cYAwC9/KfnwSHBTpxhwxV5xb5PXlSRSFNT4iJUysywmnBAPO5UUQ+U0InT8o2Ip2IMdiJrY9C/7PPyoopkmhoSF6FSZooNnaV07IqcyGdgHIxgrk2gE+UAUMA+j1dOkmpqRFyEShkevCS7NaxOlBcVSujEAAKdyKrEEd6uM7iyY/aznS2Sa2pAXIRKeN4jkldMQ/c0DjnRTaATxQP6nLjXr9LQVPu4CJXw7JfBkLBegPT/fguDvG+YsMjAidYzpG0ymRnTPS5CITzr1uAKCxu6eEKMyYluAp3ogH0fXjlJSVO94yIUyozbHezJEP1zjZH3DBMWGjtR77gIhTJD9jCFXXkit8mJbgrkRJ3jIhTKsM4hdmTYlSdym5zopkhO1DguwqvMLPsV5DCFdRO9kdvkRDfFcqK2cRFeZaZs/ynmtcmJXqI40V72qyJlTfWMi/DKNmZvMGVXbMAyO1AVNEtOdBPFiWpS11THuAivbAP2zCtzYt/c416xAm1DTnRTQCfqGBfhlY3903HAIlf++6r3EZAT3RTSifrFRXhk4/bDy7nJHuijdecgiulE7eIiIstGTnRTVCdqFhdBTsSEhUlO1CougpyICQuznKhRXAQ5ERMWhjlRn7gIciImLGRmNPCjSMGcqEtchPFObFy9qQtgb6vi+Fp5czBh8bbMjYLrideFc6IecRGmO7GJ2VCyqRGzbGQ+JtKjeE7UIi7CcCeKw5Q7OvbyH5swz4ZnlsSJGsRFGO7EDuhazevC1bxqdDfQ8r5gIj2K6cTCx0UY7sQWq01ezfRvlZc28q5gIj0K6sSix0UY7sQKrFLswEsLeU8wkR6FdWKx4yJK48QOciKjwHER5ERMpEeRnVjguIjSOJEJ34KXFvJ2YCI9ZLHRwI/mQkHjIsrixBVM9hV4bSFvBibSI/nceNYUMi6iLE5kjfNevLSR9wITpaKIcRElceIrTPLVeG0j7wQmSkbx4iLwHxMF/KRONO71jlfK7cTixUVE79Tk3KdJhU0AXZ5l55I70bznaGhAK9P6Zbx2IG8CJsqIYc/RKD58pc/TSWTIW4CJcqLpeRGaUsuI5ESGnudF6ElNI5ITBeY8R6Pg1DYiORHR77wIHfExIjnRQrvzIjTEz4jkxApGPEej0HQBdHXYNGEuIoXHRNkx4DkaRYYv8jnowmxEZmLCbBZ0+LQNiPbP0Sg09s4+gWtPlczEhNGIbTyuFsGL7s/R0BepOSYMpnGT+EUDnaj7czT0RSqOCXNZwTvLe0M5Ue/naOiLFBwTxsKnD1obWT8xlBMpLqIeSLkxYSxNsPcVESkczokUF1EHpNiYMJYVTTweLoITKS4id6TWmDCcSE6kuIickUpjwnCiOZHiIvJF6owJw4nqRIqLyBOpMiYMJ7oTKS4iP6TImDCcGE6kuIjckBJjwnBiOZHiInJCCowJw4npRIqLyAWpLyYMJ7YTKS4iB6S6mDCc+E6kuIjskdpiwnCSOJHiIrJGSosJw0nmRIqLyBYpLCYMJ6ETKS4iU6SsmDCcxE6kuIgMkapiwnBScCLFRWSG1BQTxtLYxOHH9vGfCzA3HhQXkQ1SUUwYy+vy10RSbKIpLiI1pJ6YMJbqnbbus8YjQ3ERGSDlxAQRFoqLSBHHApZkM75AhIHiIlJjMcposxRfIMJBcRFp4aoUqUqMCsVFpISrUqQqMToUF5EOVZUiVYmxoLiINKiqFKlKjAfFRaSBs5+DWURkKC4iOY5KkarEBFBcRGLsSpGqxERQXERS7EqRqsSEUFxEQrBSpCoxORQXkQisFKlKTIEacREvUYhEKESlSFViOijjIjYformdMIhKkarEtPDGRbxKf+ghYZUiKZUirriI+byapPY5DKxSpCoxTarjIsRqILXPoWinKjFlnHERsrVux1e8LFrVvHHrrs5u6O7cs3Vj86pFmF8qUIT/XWoRssERFyFRt89LWnbg6xV2tCzBV0sCiZApzrgIziHMd7CydR974fjFH+8+efb8xe8vnj97cnf44nGW937rSnyP8axs/YD9wscuXBn++d79qd+m7t+7PXzlwrFyiZAxzrgIxluYbbF2P8s8c+3XOTe/XjvDXtm/Ft9nNEKEU5dv/ebm1uVTpREhB5yLLq5h4ZrdAP2jT9F8bp6O9gPsXIPvNZY17wKcuzqB5nMzcfVcGUTIB0eoE8B7mMlYvgXg/AO0nZoH5wG2LMf3GwkX4ewo2k7N6FnTRciL6r6iFbq4sB3g9AQ6rjYTp9mQeyF+xji4CCd+QMfV5ocTJouQG0vRghYyWmzZQfjoBrrNnxuH4cAy8RnjYCL85Vt0mz/ffmysCPmxGR1oIdrnNwAuzaLVgpi9BPCGKMowmAhfPESrBfHwC0NFyI/qAQtnXUPDeoBh9FkYrgOsx+IMgonwNfosDF8bKUKOvPnW5s3vOQIiGP/UBjCOJgvHOEDbPCzQEOYxEb5Hk4Xje/NEqAfzX1r66muvvcl9+f6f4OQjtFhYHp2E7UbdhXnb4VPvBKI/tz41TIR60wZHZ9Bg4Zk5Cm34eSNog0/+hgYLz98+MUuEOrMeTkY3IrPiSZO6Sevh0+hGZFb8lPqKqcEGjFGbZskjgwaPTISoTbPkFo2g02JZ1MFKBTZsMWRKjYkQbbBSgQ1baF4xDRYehOtorOgMwwEjFhqYCFGmb6r52hAR6k07XEJbxeGST6ytRrTDF2irOHxhhgh1Zjl8FHZlRcXsYTAgEmA5/CXsyoqKhx+bIEK92QLh1pprcQO2YEkaswXCrTXX4lsTRKgza+A0Wioup0H7UL01cAItFZcT+otQb3ZDcBiYPxOwE8vSlnchOAzMnx/0F6HOrIXzaKj4nAfNY+nXwlk0VHzO6i5CvdkP/hHaYXgA+7E0TdkP/hHaYRjVXYQ6sxL60U5J6AetN7uthHNopySc01uEetMKo+imJIxCK5anJa1wFd2UhKt6i1Bv9kGtXXxReAr7sDwt+QBUu/jufNf/GY/c/Kz/m5tVc413+lnukTuYspmAD7A8IjpL4AyaKRlnQOODEZbAKTSTg5ufcxfafGV78eE3Muc2piuc0lmEetMC19BLybgGLViihrTAZfSSzUNe7VXxDb7y0xHM8Drxss4i1Jsd4D3pIQ6/wg4sUUN2eKLB7lh2q9AvX6g41OvEWzqLUGcWwXG0UlKOg7aHaC2CY2gli4eif8iaZNE/vP3Tl8yY0on4AsfrxN+O6StCvVkFF9FJSbkIq7DMouN5+sIquIBOspAV3+e/YJJZ86fPZOwiz//qJ/GywokXtBGhcDRH2lfqx4/QjGUWHYAN1YeXNsMVdBJyUzjtc1Vszmfw1S+/3RavK5x4RRsRCsdGuItOqs3kYC9Az+AkJmtwFzZimUWHu6jKixthGJ2EiFHzEWWQ2B3RXPPXVU4c1kaEwrEVnqCTajHFbCjpm8YsJU9gK5ZZdOQ2b4cXt7pMdUe84TtMKajpxJ+1EaFw7IFn6KQaTArRJYOYp+QZ7MIyi4514ID9KJA9cA+dJPlOvKysEiU1nXhPGxEKRyc8RyepmRaaIwOYqeQ5dGKZRady9AV6sRPuo5MkYrwih8pqajrxvjYiFI5ueIFOUjMgNB+bnZsZ6/F34gvoxjIzYr7kJc5iyVLOq5LXBOsEbwo2CN4StAs2C8SvhLRzL3bDFDpJImZqfBrn2k6cyloEcwH4BzpJiawS5VhldmBI/KzB7wDpGGWb4D3BIYn4V2RE+2ImAhoJEfnSid+La84Rh/FqOpF9FIUlItINf0cnKRnhivdhwp8X4u7oyOZ/h/9GI0lErnSi7DIKrNU+BtWJ6RPQTxSN8xgm/Hku7o6ObP4TPEAnSUSux4mOjiP1E9Nnl//YuYcrPoUJf56Ju6Mf29bN3+UaO4t86US5miII48R7sAeFJSISMJ8oFH+MCX+ewH+Kd+vFe+vmcxF+RidJxNj5S0xw3IPpmk68TfOJcQlYYxGKh3PiXfgP8e7MwNGLGMnIUc02McKRo512OfSRwyA5JJLDIzlUksMmMYRaWhkAHeI+9K6xfMVfO4IJTmgn0hpLbJrhR3SSEqF4OCcOS6sIo6BT4hlFjrvFGPwlMW8z3x2xkBDrqUjoQ++6s2ySf8IUI7QTad05NgGxOGKlL9yIRZ9YHOlE24feWJyHIjjxs8oiS2gnUixObALiEwe54uFmcfSJT+QPtXb4UBGfKJpn+ApTEZxI8Ynx8Y/ZHheSy8Hz7IjfGotGMdvbqn3IcMdsy0oRvrRqxbBOpJjtBPjvY5kV0zg9Y7Nzs5OspcZcFRrtY9n8prvj6dnHIgMU4cg3t5kZ73wnjBnCibSPJQEBe/vGhOYWmKlCo719bh+q9vY55hEt5LSObLgrVMK6GbS3LwkB+51lCITEp8P4FP6I5WmJd7/zTc+WKjnVLRpqB86KcQL+FcsjYhB0BoRYehb4RcqadwbEQ9kmWxzB/c5+TqQzIBKxIuhcnJkRXi/2Dfku+vXDCixPS1Yoz8W5+U2/7CF++Z1tOL/W+ZzeItSddM4K+xBL05R0zgrTXIR6Q+cnMuj8xCKwM4UzZXdjWdqyM4UzZd/FsoiY0DnbDDpnuwgkf/bAH7AkjUn+7IF/wZKI2CyHw/Q8luXwsc++0kDoeSypQM+oYtAzqgrAwgMJjse5DgfNeG7fgUTP7TNDhLpT4GeZtgDAO3idLfQs0yJQ2Oc7rxArGZjIGHq+cxEo6DPvG/dCV25OpGfe1423RYUTib+iBSUzR6ENy8oG1javZt+Kqcxpg09qWfG/5O8fhbexVCIQVCwS6EHBo5OwfR6WlQkvA3TwfyUmM2fedvi0RgMtf/toYKlEIL6xr0qqPsEGK22ZGrGhA+DlPJ3YMK+t1rAljlZYKBFIMicOQ9bdI9YwN4maG9N5sB7UkznkxCxJ4sTZS5kPGBu7YG9j3k7kI+gvFKst5MQsSeDEG4fhYNZTaK0gQk/z7nAtOwAfe9egyYlZEtuJE6cB2rNeVHiFD1cYuXf9F7YDnHAHiZETsySmEx+cB/hD9uv970DXAv4zdyc2NCzfAnC2OoqbnJglcdR9OtoPsDuHULzXxXCFUQcnNjSs2Qlw7qpjxx85MUviqMv4MI8o+QVsuCKv6uLEhoa1+9kXn7psTS+SE7Mkjrr7WvN5sPsmgFfkVZ2c2NCwsvV99t3HLlwZvn3vPjkxSwqsLhuubMLLujmRsaRlB/t6CUoQGnJieAqsLqsSW5okzATs/434Qu4sWtW8ceueTnJilhRY3Q5ZD1V4HV+oF+TELCl2nVgNdhrrBjkxS/RQl9kQr+oJOTFLyInhISdmCTkxPOTELCEnhoecmCXkxPCQE7NEqe7MuDgvcUS5waoe6trLfnVF7cSpwV6AnoFJ1Rka5MTwKNSdHWI2lKiew1JedVVOnLXPfu5VnLdLTgyPQl2ubc/AgHjmgGIzPjnRwWwfE2lwbIw/tabH24SQE8OjUJe1y/wY41n+0IEeb5tDTnQwwiQSdeE0+8MdFFlOyInhUajbZ7XJvJWWD7t3Qk6sMMMUwmcaTrJLT6VITgyPwok200xcb0+RnFiBVYl2RcjGLZ6+DDkxPH5OZEKSEx14tWK9RLvRYK70PEuOnBgecmJ4vFoxgewRM2uee/DShpwYHj8nPmZCex/BQk604QLhpSuBkBPD4+dE/mwqGjtXCHaiWy1yYnh8nMifYjqE1w7IiTZTzgZ5ljkRx9E25MTw+DiRzycq1vvIiTZMIccghZyYiNpOVM/hkBMdkBNTpKYTZ3sVsxIccqINn83GSwY5MRG1nMgXVHuVj2ghJ9rQ2DlFajlxyFpQ9UBOtCEnpkgNJ9Y2IjmxAl92ds5s9+GlDTkxPGon+hiRnOigx7HaxzTzzHmRE8OjdKKfEcmJDgYd7mOu9CxIkRPDo3KirxHJiQ4coWDjTDR55YCcGB6FE/2NSE500ss6h8KKU8yT3gB3cmJ4vOryGe3eARtqcWwUTuQD5p6hsTG+iYBWRhPhVZcv8jnwhMSTE51Mie0+nBHMcUJODI+6TnRAccg2KifOzY6JHblD7uUVATkxPEp1fSEnhoecGB5SNzykVZaQuuEhrbKE1A0PaZUlpG54SKssIXXDQ1plCakbHtIqS0jd8JBWWULqhoe0yhJSNzykVZaQuuEhrbKE1A0PaZUlpG54SKssIXXDQ1plCakbHtIqS0jd8JBWWULqhoe0yhIZmB0N/GjpwF8/EvhRIpC3UbEIvI0fLR2kFUEQBEEQBEEQBEEQBEEQBEEQBEEQBEEQBEEUjoaG/w9oblEhonOKYgAAAABJRU5ErkJggg==)\n",
        "\n",
        "1. List out the ordering of the states expanded as well as the solution (as a state sequence) returned by DFS, BFS, and UCS. Assume that goal checking is done only when a node is popped off the frontier and that a reached table is  used by all algorithms.\n",
        "\n",
        "2. List out the ordering of the states expanded as well as the solution returned by A* a) for an admissible value of $h$ and b) for an inadmissible value of $h$. Please state the actual value that you used for each case. Depending on your answer, explain why the state sequences are the same or why they are different."
      ]
    },
    {
      "cell_type": "markdown",
      "metadata": {
        "id": "AFEtCxr4X77H"
      },
      "source": [
        "ENTER YOUR RESPONSES HERE\n",
        "\n",
        "1. a. DFS: \\\\\n",
        "    order of the states expanded: s, a, b, c, d, g1, g2 \\\\\n",
        "    solution: s->b->d->g1\n",
        "\n",
        "   b. BFS: \\\\\n",
        "    order of the states expanded: s, a, b, c, d, g1, g2 \\\\\n",
        "    solution: s->c->g1\n",
        "   \n",
        "   c. UCS: \\\\\n",
        "    order of the stats expanded: s, a, b, c, g1, d, g2 \\\\\n",
        "    solution: s->b->d->g2\n",
        "\n",
        "2. a. $h$ is admissible:  \\\\\n",
        "    choose h = 1; \\\\\n",
        "    order of the states expanded: s, a, b, c, d, g1, g2 \\\\\n",
        "    solution: s->b->d->g2 \\\\\n",
        "\n",
        "   b. $h$ is inadmissible: \\\\\n",
        "    choose h = 5.0 \\\\\n",
        "    order of the states expanded:  s, a, b, c, g1 \\\\\n",
        "    solution: s->c->g1 \\\\\n"
      ]
    },
    {
      "cell_type": "markdown",
      "metadata": {
        "id": "HAsWMlxCFuCa"
      },
      "source": [
        "# Word Ladder\n",
        "\n",
        "In this assignment you will implement and use search algorithms to solve [word ladder](https://en.wikipedia.org/wiki/Word_ladder) puzzles. Given two English words, the goal is to transform the first word into the second word by changing one letter at a time. The catch is that each new word in the process must also be an English (dictionary) word. The following function encodes this process using the [pyenchant](https://pypi.org/project/pyenchant/) package."
      ]
    },
    {
      "cell_type": "code",
      "metadata": {
        "id": "Ficx2u1sgsxS",
        "outputId": "018a67c6-433f-4afd-baef-5a41c2cdc702",
        "colab": {
          "base_uri": "https://localhost:8080/"
        }
      },
      "source": [
        "# RUN THIS ONCE IN THE BEGINNING TO INSTALL PYENCHANT\n",
        "!pip install pyenchant\n",
        "!apt-get install libenchant1c2a"
      ],
      "execution_count": 5,
      "outputs": [
        {
          "output_type": "stream",
          "text": [
            "Collecting pyenchant\n",
            "\u001b[?25l  Downloading https://files.pythonhosted.org/packages/46/55/810c871d9a556685553ab1ace4a6c580460ca476736829fffe8cfef32a66/pyenchant-3.1.1-py3-none-any.whl (55kB)\n",
            "\r\u001b[K     |█████▉                          | 10kB 17.8MB/s eta 0:00:01\r\u001b[K     |███████████▊                    | 20kB 4.5MB/s eta 0:00:01\r\u001b[K     |█████████████████▋              | 30kB 5.7MB/s eta 0:00:01\r\u001b[K     |███████████████████████▌        | 40kB 4.4MB/s eta 0:00:01\r\u001b[K     |█████████████████████████████▍  | 51kB 5.3MB/s eta 0:00:01\r\u001b[K     |████████████████████████████████| 61kB 3.4MB/s \n",
            "\u001b[?25hInstalling collected packages: pyenchant\n",
            "Successfully installed pyenchant-3.1.1\n",
            "Reading package lists... Done\n",
            "Building dependency tree       \n",
            "Reading state information... Done\n",
            "The following additional packages will be installed:\n",
            "  aspell aspell-en dictionaries-common emacsen-common enchant hunspell-en-us\n",
            "  libaspell15 libhunspell-1.6-0 libtext-iconv-perl\n",
            "Suggested packages:\n",
            "  aspell-doc spellutils wordlist hunspell openoffice.org-hunspell\n",
            "  | openoffice.org-core libenchant-voikko\n",
            "The following NEW packages will be installed:\n",
            "  aspell aspell-en dictionaries-common emacsen-common enchant hunspell-en-us\n",
            "  libaspell15 libenchant1c2a libhunspell-1.6-0 libtext-iconv-perl\n",
            "0 upgraded, 10 newly installed, 0 to remove and 11 not upgraded.\n",
            "Need to get 1,310 kB of archives.\n",
            "After this operation, 5,353 kB of additional disk space will be used.\n",
            "Get:1 http://archive.ubuntu.com/ubuntu bionic/main amd64 libtext-iconv-perl amd64 1.7-5build6 [13.0 kB]\n",
            "Get:2 http://archive.ubuntu.com/ubuntu bionic-updates/main amd64 libaspell15 amd64 0.60.7~20110707-4ubuntu0.1 [309 kB]\n",
            "Get:3 http://archive.ubuntu.com/ubuntu bionic/main amd64 emacsen-common all 2.0.8 [17.6 kB]\n",
            "Get:4 http://archive.ubuntu.com/ubuntu bionic/main amd64 dictionaries-common all 1.27.2 [186 kB]\n",
            "Get:5 http://archive.ubuntu.com/ubuntu bionic-updates/main amd64 aspell amd64 0.60.7~20110707-4ubuntu0.1 [87.6 kB]\n",
            "Get:6 http://archive.ubuntu.com/ubuntu bionic/main amd64 aspell-en all 2017.08.24-0-0.1 [298 kB]\n",
            "Get:7 http://archive.ubuntu.com/ubuntu bionic/main amd64 hunspell-en-us all 1:2017.08.24 [168 kB]\n",
            "Get:8 http://archive.ubuntu.com/ubuntu bionic/main amd64 libhunspell-1.6-0 amd64 1.6.2-1 [154 kB]\n",
            "Get:9 http://archive.ubuntu.com/ubuntu bionic/main amd64 libenchant1c2a amd64 1.6.0-11.1 [64.4 kB]\n",
            "Get:10 http://archive.ubuntu.com/ubuntu bionic/main amd64 enchant amd64 1.6.0-11.1 [12.2 kB]\n",
            "Fetched 1,310 kB in 0s (11.4 MB/s)\n",
            "Preconfiguring packages ...\n",
            "Selecting previously unselected package libtext-iconv-perl.\n",
            "(Reading database ... 144628 files and directories currently installed.)\n",
            "Preparing to unpack .../0-libtext-iconv-perl_1.7-5build6_amd64.deb ...\n",
            "Unpacking libtext-iconv-perl (1.7-5build6) ...\n",
            "Selecting previously unselected package libaspell15:amd64.\n",
            "Preparing to unpack .../1-libaspell15_0.60.7~20110707-4ubuntu0.1_amd64.deb ...\n",
            "Unpacking libaspell15:amd64 (0.60.7~20110707-4ubuntu0.1) ...\n",
            "Selecting previously unselected package emacsen-common.\n",
            "Preparing to unpack .../2-emacsen-common_2.0.8_all.deb ...\n",
            "Unpacking emacsen-common (2.0.8) ...\n",
            "Selecting previously unselected package dictionaries-common.\n",
            "Preparing to unpack .../3-dictionaries-common_1.27.2_all.deb ...\n",
            "Adding 'diversion of /usr/share/dict/words to /usr/share/dict/words.pre-dictionaries-common by dictionaries-common'\n",
            "Unpacking dictionaries-common (1.27.2) ...\n",
            "Selecting previously unselected package aspell.\n",
            "Preparing to unpack .../4-aspell_0.60.7~20110707-4ubuntu0.1_amd64.deb ...\n",
            "Unpacking aspell (0.60.7~20110707-4ubuntu0.1) ...\n",
            "Selecting previously unselected package aspell-en.\n",
            "Preparing to unpack .../5-aspell-en_2017.08.24-0-0.1_all.deb ...\n",
            "Unpacking aspell-en (2017.08.24-0-0.1) ...\n",
            "Selecting previously unselected package hunspell-en-us.\n",
            "Preparing to unpack .../6-hunspell-en-us_1%3a2017.08.24_all.deb ...\n",
            "Unpacking hunspell-en-us (1:2017.08.24) ...\n",
            "Selecting previously unselected package libhunspell-1.6-0:amd64.\n",
            "Preparing to unpack .../7-libhunspell-1.6-0_1.6.2-1_amd64.deb ...\n",
            "Unpacking libhunspell-1.6-0:amd64 (1.6.2-1) ...\n",
            "Selecting previously unselected package libenchant1c2a:amd64.\n",
            "Preparing to unpack .../8-libenchant1c2a_1.6.0-11.1_amd64.deb ...\n",
            "Unpacking libenchant1c2a:amd64 (1.6.0-11.1) ...\n",
            "Selecting previously unselected package enchant.\n",
            "Preparing to unpack .../9-enchant_1.6.0-11.1_amd64.deb ...\n",
            "Unpacking enchant (1.6.0-11.1) ...\n",
            "Setting up libhunspell-1.6-0:amd64 (1.6.2-1) ...\n",
            "Setting up libaspell15:amd64 (0.60.7~20110707-4ubuntu0.1) ...\n",
            "Setting up emacsen-common (2.0.8) ...\n",
            "Setting up libtext-iconv-perl (1.7-5build6) ...\n",
            "Setting up dictionaries-common (1.27.2) ...\n",
            "Setting up aspell (0.60.7~20110707-4ubuntu0.1) ...\n",
            "Setting up hunspell-en-us (1:2017.08.24) ...\n",
            "Setting up libenchant1c2a:amd64 (1.6.0-11.1) ...\n",
            "Setting up aspell-en (2017.08.24-0-0.1) ...\n",
            "Setting up enchant (1.6.0-11.1) ...\n",
            "Processing triggers for libc-bin (2.27-3ubuntu1.2) ...\n",
            "/sbin/ldconfig.real: /usr/local/lib/python3.6/dist-packages/ideep4py/lib/libmkldnn.so.0 is not a symbolic link\n",
            "\n",
            "Processing triggers for man-db (2.8.3-2ubuntu0.1) ...\n",
            "Processing triggers for dictionaries-common (1.27.2) ...\n",
            "aspell-autobuildhash: processing: en [en-common].\n",
            "aspell-autobuildhash: processing: en [en-variant_0].\n",
            "aspell-autobuildhash: processing: en [en-variant_1].\n",
            "aspell-autobuildhash: processing: en [en-variant_2].\n",
            "aspell-autobuildhash: processing: en [en-w_accents-only].\n",
            "aspell-autobuildhash: processing: en [en-wo_accents-only].\n",
            "aspell-autobuildhash: processing: en [en_AU-variant_0].\n",
            "aspell-autobuildhash: processing: en [en_AU-variant_1].\n",
            "aspell-autobuildhash: processing: en [en_AU-w_accents-only].\n",
            "aspell-autobuildhash: processing: en [en_AU-wo_accents-only].\n",
            "aspell-autobuildhash: processing: en [en_CA-variant_0].\n",
            "aspell-autobuildhash: processing: en [en_CA-variant_1].\n",
            "aspell-autobuildhash: processing: en [en_CA-w_accents-only].\n",
            "aspell-autobuildhash: processing: en [en_CA-wo_accents-only].\n",
            "aspell-autobuildhash: processing: en [en_GB-ise-w_accents-only].\n",
            "aspell-autobuildhash: processing: en [en_GB-ise-wo_accents-only].\n",
            "aspell-autobuildhash: processing: en [en_GB-ize-w_accents-only].\n",
            "aspell-autobuildhash: processing: en [en_GB-ize-wo_accents-only].\n",
            "aspell-autobuildhash: processing: en [en_GB-variant_0].\n",
            "aspell-autobuildhash: processing: en [en_GB-variant_1].\n",
            "aspell-autobuildhash: processing: en [en_US-w_accents-only].\n",
            "aspell-autobuildhash: processing: en [en_US-wo_accents-only].\n"
          ],
          "name": "stdout"
        }
      ]
    },
    {
      "cell_type": "code",
      "metadata": {
        "id": "CuTmOtxfNYfq"
      },
      "source": [
        "import enchant, string\n",
        "\n",
        "def successors(state):\n",
        "  \"\"\"\n",
        "  Given a word, find all possible English word results from changing one letter.\n",
        "  Return a list of (action, word) pairs, where action is the index of the\n",
        "  changed letter.\n",
        "  \"\"\"\n",
        "  d = enchant.Dict(\"en_US\")\n",
        "  child_states = []\n",
        "  for i in range(len(state)):\n",
        "    new = [state[:i]+x+state[i+1:] for x in string.ascii_lowercase]\n",
        "    words = [x for x in new if d.check(x) and x != state]\n",
        "    child_states = child_states + [(i, word) for word in words]\n",
        "  return child_states"
      ],
      "execution_count": 9,
      "outputs": []
    },
    {
      "cell_type": "markdown",
      "metadata": {
        "id": "KiK0B8fiN_ey"
      },
      "source": [
        "The ```successors``` function returns viable successor words during search. Below is a partial implementation of ```best_first_search```. This follows the pseudocode provided in lecture and the textbook with some enhancements. It takes in as arguments the starting state, goal state, and a priority function ```f```. When finished, it returns either a node containing the goal state or ```None```, along with the frontier's maximum size and number of nodes expanded. The latter two quantities are continually updated during the search process. Some more implementation details...\n",
        "\n",
        "*   Nodes are implemented as Python dictionaries. A node contains five components: the state, the node's parent, the action going from parent to this node, the node's depth, and the cumulative cost to reach the node.\n",
        "*   We implement a priority queue using [heapq](https://docs.python.org/3.0/library/heapq.html). The frontier contains tuples of the form (priority, id, node), and they are sorted in order of increasing priority. Nodes with the same priority are then sorted according to their id.\n",
        "*   The priority function ```f``` takes in a node and the goal state as arguments.\n",
        "*   **We count the \"cost\" of changing from a vowel ('a', 'e', 'i', 'o', or 'u') as 2 and changing from a consonant as 1.**\n",
        "\n",
        "## Coding 1 (15 points)\n",
        "\n",
        "Make sure you understand the description above, as well as the partial implementation given to you below. Then complete the loop portion of ```best_first_search``` where indicated. Some hints:\n",
        "\n",
        "*   The goal test can be done by checking string equality with the goal state.\n",
        "*   Remember to appropriately update ```max_frontier``` and ```nodes_expanded``` whenever one of these quantities changes.\n",
        "*   Return the solution along with the max frontier size and number of nodes expanded.\n",
        "*   Use the provided ```expand``` function for node expansion.\n",
        "*   Push tuples into the frontier queue in the same way as in the initialization."
      ]
    },
    {
      "cell_type": "code",
      "metadata": {
        "id": "usm4lSbEIhqO"
      },
      "source": [
        "from heapq import heappush, heappop\n",
        "\n",
        "def best_first_search(state, goal, f):\n",
        "  \"\"\"\n",
        "  Inputs: Initial state, goal state, priority function\n",
        "  Returns node containing goal or None if no goal found, max frontier size, \n",
        "  and total nodes expanded\n",
        "  \"\"\"\n",
        "  node = {'state':state, 'parent':None, 'action':None, 'depth':0, 'cost':0}\n",
        "  frontier = []\n",
        "  heappush(frontier, (f(node, goal), id(node), node))\n",
        "  #print (frontier)\n",
        "  reached = {state: node}\n",
        "  max_frontier = 1\n",
        "  nodes_expanded = 0\n",
        "\n",
        "  while frontier:\n",
        "    node = heappop(frontier)[2]\n",
        "    if len(frontier) > max_frontier:\n",
        "      max_frontier = len(frontier)\n",
        "    # YOUR CODE HERE\n",
        "    if node[\"state\"] == goal: \n",
        "      return node, max_frontier, nodes_expanded\n",
        "    for child in expand(node):\n",
        "      s = child[\"state\"]\n",
        "      nodes_expanded += 1\n",
        "      #print (s)\n",
        "      #if (nodes_expanded >= 10): break\n",
        "      if ((s not in reached)) or (child['cost'] < reached[s][\"cost\"]):\n",
        "        reached[s] = child\n",
        "        #print (id(child))\n",
        "        heappush(frontier, (f(child, goal), id(child), child))\n",
        "        \n",
        "\n",
        "  return None, max_frontier, nodes_expanded\n",
        "\n",
        "\n",
        "def expand(node):\n",
        "  \"\"\"\n",
        "  Given a node, return a list of successor nodes\n",
        "  \"\"\"\n",
        "  vowels = ['a', 'e', 'i', 'o', 'u']\n",
        "  state = node['state']\n",
        "  children = []\n",
        "  for successor in successors(state):\n",
        "    cost = 2 if state[successor[0]] in vowels else 1\n",
        "    children.append({'state':successor[1], 'parent':node,\n",
        "                     'action':successor[0], 'depth':node['depth']+1,\n",
        "                     'cost':node['cost']+cost})\n",
        "  return children"
      ],
      "execution_count": 82,
      "outputs": []
    },
    {
      "cell_type": "markdown",
      "metadata": {
        "id": "2YIH9ktQKmmz"
      },
      "source": [
        "## Coding 2 (5 points)\n",
        "\n",
        "The ```best_first_search``` implementation is general. Each specific search algorithm behavior can be produced by specifying the appropriate priority function ```f```. Complete the priority functions below for depth-first, breadth-first, and uniform-cost search. (Although ```goal``` is an argument, it will not be used in these functions.)"
      ]
    },
    {
      "cell_type": "code",
      "metadata": {
        "id": "Uj0h6VltLPXc"
      },
      "source": [
        "def f_bfs(node, goal=None):\n",
        "  # YOUR CODE HERE\n",
        "  return node[\"depth\"]\n",
        "\n",
        "\n",
        "def f_dfs(node, goal=None):\n",
        "  # YOUR CODE HERE\n",
        "  return -node[\"depth\"]\n",
        "\n",
        "def f_ucs(node, goal=None):\n",
        "  # YOUR CODE HERE\n",
        "  return node[\"cost\"]"
      ],
      "execution_count": 63,
      "outputs": []
    },
    {
      "cell_type": "markdown",
      "metadata": {
        "id": "xbEkEPR6UAep"
      },
      "source": [
        "We now have a complete implementation for DFS, BFS, and UCS. The following functions will help us present the results in a friendly way. The first function puts together the sequence of words in the solution. The second prints out all the results together."
      ]
    },
    {
      "cell_type": "code",
      "metadata": {
        "id": "Gg1Sw0T-zrjM"
      },
      "source": [
        "def sequence(node):\n",
        "  words = [node['state']]\n",
        "  while node['parent'] is not None:\n",
        "    node = node['parent']\n",
        "    words.insert(0, node['state'])\n",
        "  return words\n",
        "\n",
        "def results(solution):\n",
        "  if solution[0] is not None:\n",
        "    print(sequence(solution[0]))\n",
        "    print(\"Total cost:\", solution[0]['cost'])\n",
        "    print(\"Max frontier size:\", solution[1])\n",
        "    print(\"Nodes expanded:\", solution[2])\n",
        "  else: print(\"No solution found!\")\n",
        "  print(\"\")"
      ],
      "execution_count": 64,
      "outputs": []
    },
    {
      "cell_type": "markdown",
      "metadata": {
        "id": "tdf-EJZbIH0W"
      },
      "source": [
        "Time to test our implementation! We'll start off with a \"simple\" 3-letter word ladder to compare DFS and BFS. Try running the first cell below a couple times and take note of the results. Also feel free to experiment with other 3-letter word ladders (you can search online for common ones to verify their solutions).\n",
        "\n",
        "Note: Sometimes DFS may get stuck and continue running for a long time. If that happens, you can kill the process and try running the cell again."
      ]
    },
    {
      "cell_type": "code",
      "metadata": {
        "id": "ZTdUEVUuHlDO",
        "outputId": "29f142af-d88c-4dce-b435-48cdb7402736",
        "colab": {
          "base_uri": "https://localhost:8080/"
        }
      },
      "source": [
        "start = 'cat'\n",
        "goal = 'cop'\n",
        "solution = best_first_search(start, goal, f_bfs)\n",
        "print(\"BFS\")\n",
        "results(solution)"
      ],
      "execution_count": 46,
      "outputs": [
        {
          "output_type": "stream",
          "text": [
            "BFS\n",
            "['cat', 'cot', 'cop']\n",
            "Total cost: 3\n",
            "Max frontier size: 375\n",
            "Nodes expanded: 3305\n",
            "\n"
          ],
          "name": "stdout"
        }
      ]
    },
    {
      "cell_type": "code",
      "metadata": {
        "id": "lkSk0zRpHpBW",
        "outputId": "b1b2de06-d1d7-47df-fd47-c6f291abb4c1",
        "colab": {
          "base_uri": "https://localhost:8080/"
        }
      },
      "source": [
        "solution = best_first_search(start, goal, f_dfs)\n",
        "print(\"DFS\")\n",
        "results(solution)"
      ],
      "execution_count": 83,
      "outputs": [
        {
          "output_type": "stream",
          "text": [
            "DFS\n",
            "['cat', 'cal', 'col', 'cop']\n",
            "Total cost: 4\n",
            "Max frontier size: 515\n",
            "Nodes expanded: 450084\n",
            "\n"
          ],
          "name": "stdout"
        }
      ]
    },
    {
      "cell_type": "code",
      "metadata": {
        "id": "0doZwcTiMTwv",
        "outputId": "5b17ca6c-7b2f-476f-ae05-3aec67113dfd",
        "colab": {
          "base_uri": "https://localhost:8080/"
        }
      },
      "source": [
        "solution = best_first_search(start, goal, f_dfs)\n",
        "print(\"DFS\")\n",
        "results(solution)"
      ],
      "execution_count": 84,
      "outputs": [
        {
          "output_type": "stream",
          "text": [
            "DFS\n",
            "['cat', 'vat', 'van', 'tan', 'tax', 'max', 'mag', 'jag', 'jig', 'dig', 'dog', 'wog', 'wot', 'tot', 'tom', 'pom', 'pod', 'bod', 'bid', 'yid', 'yip', 'kip', 'kit', 'lit', 'lix', 'xix', 'xiv', 'riv', 'rim', 'sim', 'sic', 'tic', 'til', 'oil', 'oik', 'oak', 'yak', 'yam', 'dam', 'day', 'dry', 'pry', 'pro', 'bro', 'bra', 'baa', 'bap', 'pap', 'paw', 'pew', 'dew', 'deb', 'dub', 'nub', 'nus', 'nos', 'cos', 'cop']\n",
            "Total cost: 68\n",
            "Max frontier size: 506\n",
            "Nodes expanded: 142600\n",
            "\n"
          ],
          "name": "stdout"
        }
      ]
    },
    {
      "cell_type": "markdown",
      "metadata": {
        "id": "Ha3KGxNKc3_T"
      },
      "source": [
        "## Response 1 (10 points)\n",
        "\n",
        "1.  Compare and contrast the solutions, costs, and number of nodes expanded by DFS and BFS. Which algorithm appears to perform \"better\" in each of these aspects?\n",
        "\n",
        "2.  You should observe that the DFS solution can vary quite a bit from run to run. Why is this the case?"
      ]
    },
    {
      "cell_type": "markdown",
      "metadata": {
        "id": "Bp4ioa9Edg6w"
      },
      "source": [
        "ENTER YOUR RESPONSE HERE\n",
        "\n",
        "1.  I observe that BFS's max frontier size is 375 which is less than DFS's max frontier size 515. Also, nodes expanded for BFS is 3305, which is significantly less than DFS 450084. For total costs, BFS finds a path with total cost of 3, while DFS finds a path with total cost 4. \\\\\n",
        "In general, BFS does better in all three aspects compared to DFS.\n",
        "\n",
        "2.  This is because in our search tree, we have multiple final goal states at the end of the tree. Though the goal state might share the same word, they might have totally different paths correspondingly. For DFS, it only searches for a valid path that would lead to a goal state. But for different runs, it might run into different goal states. This could make either the runtime and the finally solution quite different. \n"
      ]
    },
    {
      "cell_type": "markdown",
      "metadata": {
        "id": "LxwUSY6Cdkjr"
      },
      "source": [
        "Now run the \"harder\" word ladder below comparing BFS and UCS."
      ]
    },
    {
      "cell_type": "code",
      "metadata": {
        "id": "r1FTu4kKHVPJ",
        "outputId": "c0feb71c-4d19-47cd-f980-22ac3ba79d5b",
        "colab": {
          "base_uri": "https://localhost:8080/"
        }
      },
      "source": [
        "start = 'small'\n",
        "goal = 'large'\n",
        "\n",
        "solution = best_first_search(start, goal, f_bfs)\n",
        "print(\"BFS\")\n",
        "results(solution)\n",
        "\n",
        "solution = best_first_search(start, goal, f_ucs)\n",
        "print(\"UCS\")\n",
        "results(solution)"
      ],
      "execution_count": 85,
      "outputs": [
        {
          "output_type": "stream",
          "text": [
            "BFS\n",
            "['small', 'shall', 'shale', 'shade', 'shads', 'sheds', 'seeds', 'seedy', 'needy', 'nerdy', 'nervy', 'nerve', 'serve', 'serge', 'sarge', 'large']\n",
            "Total cost: 19\n",
            "Max frontier size: 904\n",
            "Nodes expanded: 29644\n",
            "\n",
            "UCS\n",
            "['small', 'stall', 'stalk', 'stark', 'stars', 'sears', 'hears', 'heads', 'herds', 'nerds', 'nerdy', 'nervy', 'nerve', 'serve', 'serge', 'sarge', 'large']\n",
            "Total cost: 18\n",
            "Max frontier size: 719\n",
            "Nodes expanded: 24226\n",
            "\n"
          ],
          "name": "stdout"
        }
      ]
    },
    {
      "cell_type": "markdown",
      "metadata": {
        "id": "xcWCqhM9JDTA"
      },
      "source": [
        "## Response 2 (5 points)\n",
        "\n",
        "Explain your observation of the two algorithms' solutions. Why are they the same or different? Is either one guaranteed to be optimal?"
      ]
    },
    {
      "cell_type": "markdown",
      "metadata": {
        "id": "Gtu0b70FKHFP"
      },
      "source": [
        "ENTER YOUR RESPONSE HERE: \\\\\n",
        "The solution paths are different. From the output, the third nodes are different. This is because BFS only cares the shallowest of the nodes. UCS takes the one that has min cumulative cost to expand. \\\\\n",
        "\n",
        "UCS is guaranteed to be optimal whereas BFS is not."
      ]
    },
    {
      "cell_type": "markdown",
      "metadata": {
        "id": "viIYMvGCRH16"
      },
      "source": [
        "## Coding 3 (10 points)\n",
        "\n",
        "Let's now try our hand at informed search. We will be able to reuse ```best_first_search``` once again---we just need to implement the priority function, which will now utilize a heuristic. A suitable heuristic is the Hamming distance between a state and the goal: the number of indices where the corresponding letters are different. We can also make this heuristic more sophisticated by adding to the Hamming distance the number of vowels in the current word that must be changed to reach the goal word. \n",
        "\n",
        "Complete the ```f_astar``` and ```f_astar_vowel``` functions below to use the \"simple\" and \"sophisticated\" Hamming distances, respectively, described above as the heuristics. Don't forget to add in cumulative node cost as well."
      ]
    },
    {
      "cell_type": "code",
      "metadata": {
        "id": "-985SpVRxE9v"
      },
      "source": [
        "def f_astar(node, goal):\n",
        "  # YOUR CODE HERE\n",
        "  state = node['state']\n",
        "  i = 0\n",
        "  count = 0\n",
        "  while (i < len(state)):\n",
        "    if (state[i] != goal[i]):\n",
        "      count += 1\n",
        "    i += 1\n",
        "  return node['cost'] + count\n",
        "\n",
        "\n",
        "def f_astar_vowel(node, goal):\n",
        "  # YOUR CODE HERE\n",
        "  vowels = ['a', 'e', 'i', 'o', 'u']\n",
        "  state = node['state']\n",
        "  i = 0\n",
        "  count1 = 0\n",
        "  count2 = 0\n",
        "  while (i < len(state)):\n",
        "    if (state[i] != goal[i]):\n",
        "      count1 += 1\n",
        "      if (state[i] in vowels):\n",
        "        count2 += 1\n",
        "    i += 1\n",
        "  return count1 + count2 + node['cost']\n"
      ],
      "execution_count": 96,
      "outputs": []
    },
    {
      "cell_type": "markdown",
      "metadata": {
        "id": "bNgUKGV6jYPU"
      },
      "source": [
        "## Response 3 (5 points)\n",
        "\n",
        "Are both of the above heuristics admissible? Does either of the above heuristics dominate the other? Explain your answers."
      ]
    },
    {
      "cell_type": "markdown",
      "metadata": {
        "id": "eMGDELRgjlOT"
      },
      "source": [
        "ENTER YOUR RESPONSE HERE\n",
        "\n",
        "Both heruristics are admissible. \n",
        "For f_astar, it evaluates the number of indices where the corresponding letters are different. For a word, if it wants to transfer into another word. It will at least have to change corrsponding different letters. So, it's admissible.\n",
        "\n",
        "For f_astar_vowel, if we want to change into another different word, we must at least change the number of vowels in the current word that need to be changed to reach the goal word. So, it's admissible.\n",
        "\n",
        "f_astar_vowel dominates f_astar, because it has another added term for the vowels. So, f_astar_vowel's return value is always greater than f_astar. "
      ]
    },
    {
      "cell_type": "markdown",
      "metadata": {
        "id": "btGAtLNRSFoj"
      },
      "source": [
        "If you correctly implemented the A* functions above with the two versions of Hamming distance, then you should be able to run the tests below and see results consistent with what we learned about this search algorithm. Answer the two questions below the code block to finish up this part of the assignment."
      ]
    },
    {
      "cell_type": "code",
      "metadata": {
        "id": "DhImiPYbxq-r",
        "outputId": "d20a79cc-9506-42fe-82a9-84289c3dcf16",
        "colab": {
          "base_uri": "https://localhost:8080/"
        }
      },
      "source": [
        "start = 'small'\n",
        "goal = 'large'\n",
        "\n",
        "solution = best_first_search(start, goal, f_astar)\n",
        "print(\"A* simple Hamming\")\n",
        "results(solution)"
      ],
      "execution_count": 99,
      "outputs": [
        {
          "output_type": "stream",
          "text": [
            "A* simple Hamming\n",
            "['small', 'stall', 'stalk', 'stark', 'stars', 'sears', 'bears', 'beads', 'bends', 'bands', 'bandy', 'randy', 'rangy', 'range', 'mange', 'marge', 'large']\n",
            "Total cost: 18\n",
            "Max frontier size: 864\n",
            "Nodes expanded: 18030\n",
            "\n"
          ],
          "name": "stdout"
        }
      ]
    },
    {
      "cell_type": "code",
      "metadata": {
        "id": "8ayLeoWLZGBI",
        "outputId": "7a981e55-c8e2-4327-9fc9-95df9c82d611",
        "colab": {
          "base_uri": "https://localhost:8080/"
        }
      },
      "source": [
        "solution = best_first_search(start, goal, f_astar_vowel)\n",
        "print(\"A* Hamming with vowels\")\n",
        "results(solution)"
      ],
      "execution_count": 100,
      "outputs": [
        {
          "output_type": "stream",
          "text": [
            "A* Hamming with vowels\n",
            "['small', 'stall', 'stalk', 'stark', 'stars', 'sears', 'hears', 'heads', 'herds', 'nerds', 'nerdy', 'nervy', 'nerve', 'serve', 'serge', 'sarge', 'large']\n",
            "Total cost: 18\n",
            "Max frontier size: 894\n",
            "Nodes expanded: 14710\n",
            "\n"
          ],
          "name": "stdout"
        }
      ]
    },
    {
      "cell_type": "markdown",
      "metadata": {
        "id": "L3r9jaTISmUZ"
      },
      "source": [
        "## Response 4 (10 points)\n",
        "\n",
        "1.  The results of A* with the two heuristics should look very similar, but are the slight differences that you observe in frontier size and number of nodes expanded consistent with your expectations?\n",
        "\n",
        "2.  How does the performance of A* compare to that of UCS in terms of solution optimality as well as the number of nodes expanded? Is it ever possible for A* to be worse than UCS?"
      ]
    },
    {
      "cell_type": "markdown",
      "metadata": {
        "id": "2hdFsG1bTge7"
      },
      "source": [
        "ENTER YOUR RESPONSES HERE\n",
        "\n",
        "1.  Yes. Max Frontier size for both are about the same. \n",
        "The number of nodes expanded for f_astar_vowel are less than f_astar. This is because f_astar_vowel dominates f_astar. \n",
        "\n",
        "2.  The A* algorithm and the UCS both return optimal solution. However, A* algorithm has less nodes expanded compared to UCS algorithm. For Max frontier size A* algorithm and UCS algorithm are approximately the same. It's not possible for A* to be worse than UCS."
      ]
    },
    {
      "cell_type": "markdown",
      "metadata": {
        "id": "4yISnlIOqRnq"
      },
      "source": [
        "# Submission\n",
        "\n",
        "Prior to submitting your homework, do a clean run of all cells by clearing all outputs and rerunning the entire notebook. Make sure that all outputs are what you expect them to be and that everything is error-free. Then save and download your notebook, including all outputs, and submit by following the instructions provided to you."
      ]
    }
  ]
}